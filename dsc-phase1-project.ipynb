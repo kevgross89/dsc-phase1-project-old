{
 "cells": [
  {
   "cell_type": "markdown",
   "metadata": {},
   "source": [
    "## Final Project Submission\n",
    "\n",
    "Please fill out:\n",
    "* Student name: Kevin Gross\n",
    "* Student pace: Part Time\n",
    "* Scheduled project review date/time: \n",
    "* Instructor name: Morgan Jones\n",
    "* Blog post URL:\n"
   ]
  },
  {
   "cell_type": "markdown",
   "metadata": {},
   "source": [
    "# Microsoft Studios Data Analysis\n",
    "--------\n",
    "Author: Kevin Gross"
   ]
  },
  {
   "cell_type": "markdown",
   "metadata": {},
   "source": [
    "## General Overview\n",
    "------\n",
    "This project analyzes movie studio data from 2010 to 2018 to better understand why movies perform well at the domestic box office. The analysis below shows that domestic box office revenues can be linked to specific genres, movie runtime, and the time of year the movie is released. This information is for the head of Microsoft Studios so they can help decide what type of films to create.\n",
    "\n",
    "\n",
    "\n",
    "## Business Problem\n",
    "_______\n",
    "Microsoft is seeing all the big companies create original video content and have decided that this is a revenue stream that they want to attempt to tap into. Their first thought is to create a new movie studio, but they do not know anything about creating movies. The information below explores what types of films are doing best at the box office and translates those findings into actionable insights that the head of Microsoft Studios can use to help decide what type of films to create. \n",
    "\n",
    "\n",
    "## Data Understanding\n",
    "-------\n",
    "\n",
    "This analysis looks at a few different datasets. \n",
    "* Movie Gross data Box Office Mojo\n",
    "* Movie Basics and Movie Ratings from IMDB\n",
    "* Movie Information from The Movie Database\n",
    "\n",
    "The tables from IMDB were able to be joined using a unique Movie ID column. From there, the newly combined table was joined with the movie gross data and movie information data based on movie title. Each data file provided a different types of information that was used in the below analysis. "
   ]
  },
  {
   "cell_type": "markdown",
   "metadata": {},
   "source": [
    "## Import Packages\n",
    "\n",
    "Import the necessary packages for our data analysis"
   ]
  },
  {
   "cell_type": "code",
   "execution_count": 1,
   "metadata": {
    "scrolled": false
   },
   "outputs": [],
   "source": [
    "import pandas as pd\n",
    "import numpy as np\n",
    "import matplotlib.pyplot as plt\n",
    "import seaborn as sns\n",
    "import sqlite3\n",
    "%matplotlib inline"
   ]
  },
  {
   "cell_type": "markdown",
   "metadata": {},
   "source": [
    "## Inspect the CSV File Data"
   ]
  },
  {
   "cell_type": "code",
   "execution_count": 2,
   "metadata": {
    "scrolled": false
   },
   "outputs": [],
   "source": [
    "movie_gross = pd.read_csv('zippedData/bom.movie_gross.csv.gz')"
   ]
  },
  {
   "cell_type": "code",
   "execution_count": 3,
   "metadata": {
    "scrolled": false
   },
   "outputs": [
    {
     "data": {
      "text/html": [
       "<div>\n",
       "<style scoped>\n",
       "    .dataframe tbody tr th:only-of-type {\n",
       "        vertical-align: middle;\n",
       "    }\n",
       "\n",
       "    .dataframe tbody tr th {\n",
       "        vertical-align: top;\n",
       "    }\n",
       "\n",
       "    .dataframe thead th {\n",
       "        text-align: right;\n",
       "    }\n",
       "</style>\n",
       "<table border=\"1\" class=\"dataframe\">\n",
       "  <thead>\n",
       "    <tr style=\"text-align: right;\">\n",
       "      <th></th>\n",
       "      <th>title</th>\n",
       "      <th>studio</th>\n",
       "      <th>domestic_gross</th>\n",
       "      <th>foreign_gross</th>\n",
       "      <th>year</th>\n",
       "    </tr>\n",
       "  </thead>\n",
       "  <tbody>\n",
       "    <tr>\n",
       "      <th>0</th>\n",
       "      <td>Toy Story 3</td>\n",
       "      <td>BV</td>\n",
       "      <td>415000000.0</td>\n",
       "      <td>652000000</td>\n",
       "      <td>2010</td>\n",
       "    </tr>\n",
       "    <tr>\n",
       "      <th>1</th>\n",
       "      <td>Alice in Wonderland (2010)</td>\n",
       "      <td>BV</td>\n",
       "      <td>334200000.0</td>\n",
       "      <td>691300000</td>\n",
       "      <td>2010</td>\n",
       "    </tr>\n",
       "    <tr>\n",
       "      <th>2</th>\n",
       "      <td>Harry Potter and the Deathly Hallows Part 1</td>\n",
       "      <td>WB</td>\n",
       "      <td>296000000.0</td>\n",
       "      <td>664300000</td>\n",
       "      <td>2010</td>\n",
       "    </tr>\n",
       "    <tr>\n",
       "      <th>3</th>\n",
       "      <td>Inception</td>\n",
       "      <td>WB</td>\n",
       "      <td>292600000.0</td>\n",
       "      <td>535700000</td>\n",
       "      <td>2010</td>\n",
       "    </tr>\n",
       "    <tr>\n",
       "      <th>4</th>\n",
       "      <td>Shrek Forever After</td>\n",
       "      <td>P/DW</td>\n",
       "      <td>238700000.0</td>\n",
       "      <td>513900000</td>\n",
       "      <td>2010</td>\n",
       "    </tr>\n",
       "    <tr>\n",
       "      <th>5</th>\n",
       "      <td>The Twilight Saga: Eclipse</td>\n",
       "      <td>Sum.</td>\n",
       "      <td>300500000.0</td>\n",
       "      <td>398000000</td>\n",
       "      <td>2010</td>\n",
       "    </tr>\n",
       "    <tr>\n",
       "      <th>6</th>\n",
       "      <td>Iron Man 2</td>\n",
       "      <td>Par.</td>\n",
       "      <td>312400000.0</td>\n",
       "      <td>311500000</td>\n",
       "      <td>2010</td>\n",
       "    </tr>\n",
       "    <tr>\n",
       "      <th>7</th>\n",
       "      <td>Tangled</td>\n",
       "      <td>BV</td>\n",
       "      <td>200800000.0</td>\n",
       "      <td>391000000</td>\n",
       "      <td>2010</td>\n",
       "    </tr>\n",
       "    <tr>\n",
       "      <th>8</th>\n",
       "      <td>Despicable Me</td>\n",
       "      <td>Uni.</td>\n",
       "      <td>251500000.0</td>\n",
       "      <td>291600000</td>\n",
       "      <td>2010</td>\n",
       "    </tr>\n",
       "    <tr>\n",
       "      <th>9</th>\n",
       "      <td>How to Train Your Dragon</td>\n",
       "      <td>P/DW</td>\n",
       "      <td>217600000.0</td>\n",
       "      <td>277300000</td>\n",
       "      <td>2010</td>\n",
       "    </tr>\n",
       "  </tbody>\n",
       "</table>\n",
       "</div>"
      ],
      "text/plain": [
       "                                         title studio  domestic_gross  \\\n",
       "0                                  Toy Story 3     BV     415000000.0   \n",
       "1                   Alice in Wonderland (2010)     BV     334200000.0   \n",
       "2  Harry Potter and the Deathly Hallows Part 1     WB     296000000.0   \n",
       "3                                    Inception     WB     292600000.0   \n",
       "4                          Shrek Forever After   P/DW     238700000.0   \n",
       "5                   The Twilight Saga: Eclipse   Sum.     300500000.0   \n",
       "6                                   Iron Man 2   Par.     312400000.0   \n",
       "7                                      Tangled     BV     200800000.0   \n",
       "8                                Despicable Me   Uni.     251500000.0   \n",
       "9                     How to Train Your Dragon   P/DW     217600000.0   \n",
       "\n",
       "  foreign_gross  year  \n",
       "0     652000000  2010  \n",
       "1     691300000  2010  \n",
       "2     664300000  2010  \n",
       "3     535700000  2010  \n",
       "4     513900000  2010  \n",
       "5     398000000  2010  \n",
       "6     311500000  2010  \n",
       "7     391000000  2010  \n",
       "8     291600000  2010  \n",
       "9     277300000  2010  "
      ]
     },
     "execution_count": 3,
     "metadata": {},
     "output_type": "execute_result"
    }
   ],
   "source": [
    "movie_gross.head(10)"
   ]
  },
  {
   "cell_type": "code",
   "execution_count": 4,
   "metadata": {
    "scrolled": false
   },
   "outputs": [
    {
     "name": "stdout",
     "output_type": "stream",
     "text": [
      "<class 'pandas.core.frame.DataFrame'>\n",
      "RangeIndex: 3387 entries, 0 to 3386\n",
      "Data columns (total 5 columns):\n",
      " #   Column          Non-Null Count  Dtype  \n",
      "---  ------          --------------  -----  \n",
      " 0   title           3387 non-null   object \n",
      " 1   studio          3382 non-null   object \n",
      " 2   domestic_gross  3359 non-null   float64\n",
      " 3   foreign_gross   2037 non-null   object \n",
      " 4   year            3387 non-null   int64  \n",
      "dtypes: float64(1), int64(1), object(3)\n",
      "memory usage: 132.4+ KB\n"
     ]
    }
   ],
   "source": [
    "movie_gross.info()"
   ]
  },
  {
   "cell_type": "markdown",
   "metadata": {},
   "source": [
    "## Data Cleaning and Preparation\n",
    "\n",
    "Since there are only 5 films out of 3,387 that are missing a studio, we are going to drop those from our dataset. Additionally, we are going to drop the 28 films that are missing a value for domestic gross."
   ]
  },
  {
   "cell_type": "code",
   "execution_count": 5,
   "metadata": {
    "scrolled": false
   },
   "outputs": [
    {
     "data": {
      "text/plain": [
       "title                0\n",
       "studio               5\n",
       "domestic_gross      28\n",
       "foreign_gross     1350\n",
       "year                 0\n",
       "dtype: int64"
      ]
     },
     "execution_count": 5,
     "metadata": {},
     "output_type": "execute_result"
    }
   ],
   "source": [
    "movie_gross.isna().sum()"
   ]
  },
  {
   "cell_type": "code",
   "execution_count": 6,
   "metadata": {
    "scrolled": false
   },
   "outputs": [],
   "source": [
    "movie_gross = movie_gross.dropna(subset=['studio', 'domestic_gross'])"
   ]
  },
  {
   "cell_type": "markdown",
   "metadata": {},
   "source": [
    "Check to make sure the missing data was dropped"
   ]
  },
  {
   "cell_type": "code",
   "execution_count": 7,
   "metadata": {
    "scrolled": false
   },
   "outputs": [
    {
     "data": {
      "text/plain": [
       "title                0\n",
       "studio               0\n",
       "domestic_gross       0\n",
       "foreign_gross     1349\n",
       "year                 0\n",
       "dtype: int64"
      ]
     },
     "execution_count": 7,
     "metadata": {},
     "output_type": "execute_result"
    }
   ],
   "source": [
    "movie_gross.isna().sum() # Studio NaN went from 5 to 0 and Domestic_Gross Nan went from 28 to 0"
   ]
  },
  {
   "cell_type": "markdown",
   "metadata": {},
   "source": [
    "We need to change the foreign_gross column from an object to float64."
   ]
  },
  {
   "cell_type": "code",
   "execution_count": 8,
   "metadata": {
    "scrolled": false
   },
   "outputs": [],
   "source": [
    "movie_gross['foreign_gross'] = movie_gross['foreign_gross'].fillna(0)"
   ]
  },
  {
   "cell_type": "code",
   "execution_count": 9,
   "metadata": {
    "scrolled": false
   },
   "outputs": [],
   "source": [
    "movie_gross['foreign_gross'] = movie_gross['foreign_gross'].str.replace(',', '')"
   ]
  },
  {
   "cell_type": "code",
   "execution_count": 10,
   "metadata": {
    "scrolled": false
   },
   "outputs": [],
   "source": [
    "movie_gross['foreign_gross'] = movie_gross['foreign_gross'].astype(float)"
   ]
  },
  {
   "cell_type": "markdown",
   "metadata": {},
   "source": [
    "Check to make sure that the foreign_gross column was changed to float64."
   ]
  },
  {
   "cell_type": "code",
   "execution_count": 11,
   "metadata": {
    "scrolled": true
   },
   "outputs": [
    {
     "name": "stdout",
     "output_type": "stream",
     "text": [
      "<class 'pandas.core.frame.DataFrame'>\n",
      "Int64Index: 3356 entries, 0 to 3386\n",
      "Data columns (total 5 columns):\n",
      " #   Column          Non-Null Count  Dtype  \n",
      "---  ------          --------------  -----  \n",
      " 0   title           3356 non-null   object \n",
      " 1   studio          3356 non-null   object \n",
      " 2   domestic_gross  3356 non-null   float64\n",
      " 3   foreign_gross   2007 non-null   float64\n",
      " 4   year            3356 non-null   int64  \n",
      "dtypes: float64(2), int64(1), object(2)\n",
      "memory usage: 157.3+ KB\n"
     ]
    }
   ],
   "source": [
    "movie_gross.info()"
   ]
  },
  {
   "cell_type": "code",
   "execution_count": 12,
   "metadata": {
    "scrolled": false
   },
   "outputs": [
    {
     "data": {
      "text/html": [
       "<div>\n",
       "<style scoped>\n",
       "    .dataframe tbody tr th:only-of-type {\n",
       "        vertical-align: middle;\n",
       "    }\n",
       "\n",
       "    .dataframe tbody tr th {\n",
       "        vertical-align: top;\n",
       "    }\n",
       "\n",
       "    .dataframe thead th {\n",
       "        text-align: right;\n",
       "    }\n",
       "</style>\n",
       "<table border=\"1\" class=\"dataframe\">\n",
       "  <thead>\n",
       "    <tr style=\"text-align: right;\">\n",
       "      <th></th>\n",
       "      <th>domestic_gross</th>\n",
       "      <th>foreign_gross</th>\n",
       "      <th>year</th>\n",
       "    </tr>\n",
       "  </thead>\n",
       "  <tbody>\n",
       "    <tr>\n",
       "      <th>count</th>\n",
       "      <td>3.356000e+03</td>\n",
       "      <td>2.007000e+03</td>\n",
       "      <td>3356.000000</td>\n",
       "    </tr>\n",
       "    <tr>\n",
       "      <th>mean</th>\n",
       "      <td>2.877149e+07</td>\n",
       "      <td>7.579038e+07</td>\n",
       "      <td>2013.970203</td>\n",
       "    </tr>\n",
       "    <tr>\n",
       "      <th>std</th>\n",
       "      <td>6.700694e+07</td>\n",
       "      <td>1.381796e+08</td>\n",
       "      <td>2.479064</td>\n",
       "    </tr>\n",
       "    <tr>\n",
       "      <th>min</th>\n",
       "      <td>1.000000e+02</td>\n",
       "      <td>6.000000e+02</td>\n",
       "      <td>2010.000000</td>\n",
       "    </tr>\n",
       "    <tr>\n",
       "      <th>25%</th>\n",
       "      <td>1.200000e+05</td>\n",
       "      <td>3.900000e+06</td>\n",
       "      <td>2012.000000</td>\n",
       "    </tr>\n",
       "    <tr>\n",
       "      <th>50%</th>\n",
       "      <td>1.400000e+06</td>\n",
       "      <td>1.940000e+07</td>\n",
       "      <td>2014.000000</td>\n",
       "    </tr>\n",
       "    <tr>\n",
       "      <th>75%</th>\n",
       "      <td>2.795000e+07</td>\n",
       "      <td>7.595000e+07</td>\n",
       "      <td>2016.000000</td>\n",
       "    </tr>\n",
       "    <tr>\n",
       "      <th>max</th>\n",
       "      <td>9.367000e+08</td>\n",
       "      <td>9.605000e+08</td>\n",
       "      <td>2018.000000</td>\n",
       "    </tr>\n",
       "  </tbody>\n",
       "</table>\n",
       "</div>"
      ],
      "text/plain": [
       "       domestic_gross  foreign_gross         year\n",
       "count    3.356000e+03   2.007000e+03  3356.000000\n",
       "mean     2.877149e+07   7.579038e+07  2013.970203\n",
       "std      6.700694e+07   1.381796e+08     2.479064\n",
       "min      1.000000e+02   6.000000e+02  2010.000000\n",
       "25%      1.200000e+05   3.900000e+06  2012.000000\n",
       "50%      1.400000e+06   1.940000e+07  2014.000000\n",
       "75%      2.795000e+07   7.595000e+07  2016.000000\n",
       "max      9.367000e+08   9.605000e+08  2018.000000"
      ]
     },
     "execution_count": 12,
     "metadata": {},
     "output_type": "execute_result"
    }
   ],
   "source": [
    "movie_gross.describe()"
   ]
  },
  {
   "cell_type": "markdown",
   "metadata": {},
   "source": [
    "## Working with SQL\n",
    "\n",
    "Establish a connection and examine the SQL tables"
   ]
  },
  {
   "cell_type": "code",
   "execution_count": 13,
   "metadata": {
    "scrolled": false
   },
   "outputs": [],
   "source": [
    "conn = sqlite3.connect('zippedData\\im.db')"
   ]
  },
  {
   "cell_type": "code",
   "execution_count": 14,
   "metadata": {
    "scrolled": false
   },
   "outputs": [
    {
     "data": {
      "text/html": [
       "<div>\n",
       "<style scoped>\n",
       "    .dataframe tbody tr th:only-of-type {\n",
       "        vertical-align: middle;\n",
       "    }\n",
       "\n",
       "    .dataframe tbody tr th {\n",
       "        vertical-align: top;\n",
       "    }\n",
       "\n",
       "    .dataframe thead th {\n",
       "        text-align: right;\n",
       "    }\n",
       "</style>\n",
       "<table border=\"1\" class=\"dataframe\">\n",
       "  <thead>\n",
       "    <tr style=\"text-align: right;\">\n",
       "      <th></th>\n",
       "      <th>movie_id</th>\n",
       "      <th>primary_title</th>\n",
       "      <th>original_title</th>\n",
       "      <th>start_year</th>\n",
       "      <th>runtime_minutes</th>\n",
       "      <th>genres</th>\n",
       "    </tr>\n",
       "  </thead>\n",
       "  <tbody>\n",
       "    <tr>\n",
       "      <th>0</th>\n",
       "      <td>tt0063540</td>\n",
       "      <td>Sunghursh</td>\n",
       "      <td>Sunghursh</td>\n",
       "      <td>2013</td>\n",
       "      <td>175.0</td>\n",
       "      <td>Action,Crime,Drama</td>\n",
       "    </tr>\n",
       "    <tr>\n",
       "      <th>1</th>\n",
       "      <td>tt0066787</td>\n",
       "      <td>One Day Before the Rainy Season</td>\n",
       "      <td>Ashad Ka Ek Din</td>\n",
       "      <td>2019</td>\n",
       "      <td>114.0</td>\n",
       "      <td>Biography,Drama</td>\n",
       "    </tr>\n",
       "    <tr>\n",
       "      <th>2</th>\n",
       "      <td>tt0069049</td>\n",
       "      <td>The Other Side of the Wind</td>\n",
       "      <td>The Other Side of the Wind</td>\n",
       "      <td>2018</td>\n",
       "      <td>122.0</td>\n",
       "      <td>Drama</td>\n",
       "    </tr>\n",
       "    <tr>\n",
       "      <th>3</th>\n",
       "      <td>tt0069204</td>\n",
       "      <td>Sabse Bada Sukh</td>\n",
       "      <td>Sabse Bada Sukh</td>\n",
       "      <td>2018</td>\n",
       "      <td>NaN</td>\n",
       "      <td>Comedy,Drama</td>\n",
       "    </tr>\n",
       "    <tr>\n",
       "      <th>4</th>\n",
       "      <td>tt0100275</td>\n",
       "      <td>The Wandering Soap Opera</td>\n",
       "      <td>La Telenovela Errante</td>\n",
       "      <td>2017</td>\n",
       "      <td>80.0</td>\n",
       "      <td>Comedy,Drama,Fantasy</td>\n",
       "    </tr>\n",
       "    <tr>\n",
       "      <th>...</th>\n",
       "      <td>...</td>\n",
       "      <td>...</td>\n",
       "      <td>...</td>\n",
       "      <td>...</td>\n",
       "      <td>...</td>\n",
       "      <td>...</td>\n",
       "    </tr>\n",
       "    <tr>\n",
       "      <th>146139</th>\n",
       "      <td>tt9916538</td>\n",
       "      <td>Kuambil Lagi Hatiku</td>\n",
       "      <td>Kuambil Lagi Hatiku</td>\n",
       "      <td>2019</td>\n",
       "      <td>123.0</td>\n",
       "      <td>Drama</td>\n",
       "    </tr>\n",
       "    <tr>\n",
       "      <th>146140</th>\n",
       "      <td>tt9916622</td>\n",
       "      <td>Rodolpho Teóphilo - O Legado de um Pioneiro</td>\n",
       "      <td>Rodolpho Teóphilo - O Legado de um Pioneiro</td>\n",
       "      <td>2015</td>\n",
       "      <td>NaN</td>\n",
       "      <td>Documentary</td>\n",
       "    </tr>\n",
       "    <tr>\n",
       "      <th>146141</th>\n",
       "      <td>tt9916706</td>\n",
       "      <td>Dankyavar Danka</td>\n",
       "      <td>Dankyavar Danka</td>\n",
       "      <td>2013</td>\n",
       "      <td>NaN</td>\n",
       "      <td>Comedy</td>\n",
       "    </tr>\n",
       "    <tr>\n",
       "      <th>146142</th>\n",
       "      <td>tt9916730</td>\n",
       "      <td>6 Gunn</td>\n",
       "      <td>6 Gunn</td>\n",
       "      <td>2017</td>\n",
       "      <td>116.0</td>\n",
       "      <td>None</td>\n",
       "    </tr>\n",
       "    <tr>\n",
       "      <th>146143</th>\n",
       "      <td>tt9916754</td>\n",
       "      <td>Chico Albuquerque - Revelações</td>\n",
       "      <td>Chico Albuquerque - Revelações</td>\n",
       "      <td>2013</td>\n",
       "      <td>NaN</td>\n",
       "      <td>Documentary</td>\n",
       "    </tr>\n",
       "  </tbody>\n",
       "</table>\n",
       "<p>146144 rows × 6 columns</p>\n",
       "</div>"
      ],
      "text/plain": [
       "         movie_id                                primary_title  \\\n",
       "0       tt0063540                                    Sunghursh   \n",
       "1       tt0066787              One Day Before the Rainy Season   \n",
       "2       tt0069049                   The Other Side of the Wind   \n",
       "3       tt0069204                              Sabse Bada Sukh   \n",
       "4       tt0100275                     The Wandering Soap Opera   \n",
       "...           ...                                          ...   \n",
       "146139  tt9916538                          Kuambil Lagi Hatiku   \n",
       "146140  tt9916622  Rodolpho Teóphilo - O Legado de um Pioneiro   \n",
       "146141  tt9916706                              Dankyavar Danka   \n",
       "146142  tt9916730                                       6 Gunn   \n",
       "146143  tt9916754               Chico Albuquerque - Revelações   \n",
       "\n",
       "                                     original_title  start_year  \\\n",
       "0                                         Sunghursh        2013   \n",
       "1                                   Ashad Ka Ek Din        2019   \n",
       "2                        The Other Side of the Wind        2018   \n",
       "3                                   Sabse Bada Sukh        2018   \n",
       "4                             La Telenovela Errante        2017   \n",
       "...                                             ...         ...   \n",
       "146139                          Kuambil Lagi Hatiku        2019   \n",
       "146140  Rodolpho Teóphilo - O Legado de um Pioneiro        2015   \n",
       "146141                              Dankyavar Danka        2013   \n",
       "146142                                       6 Gunn        2017   \n",
       "146143               Chico Albuquerque - Revelações        2013   \n",
       "\n",
       "        runtime_minutes                genres  \n",
       "0                 175.0    Action,Crime,Drama  \n",
       "1                 114.0       Biography,Drama  \n",
       "2                 122.0                 Drama  \n",
       "3                   NaN          Comedy,Drama  \n",
       "4                  80.0  Comedy,Drama,Fantasy  \n",
       "...                 ...                   ...  \n",
       "146139            123.0                 Drama  \n",
       "146140              NaN           Documentary  \n",
       "146141              NaN                Comedy  \n",
       "146142            116.0                  None  \n",
       "146143              NaN           Documentary  \n",
       "\n",
       "[146144 rows x 6 columns]"
      ]
     },
     "execution_count": 14,
     "metadata": {},
     "output_type": "execute_result"
    }
   ],
   "source": [
    "pd.read_sql(\"\"\"\n",
    "SELECT *\n",
    "FROM movie_basics\n",
    "\"\"\", conn)"
   ]
  },
  {
   "cell_type": "code",
   "execution_count": 15,
   "metadata": {
    "scrolled": false
   },
   "outputs": [
    {
     "data": {
      "text/html": [
       "<div>\n",
       "<style scoped>\n",
       "    .dataframe tbody tr th:only-of-type {\n",
       "        vertical-align: middle;\n",
       "    }\n",
       "\n",
       "    .dataframe tbody tr th {\n",
       "        vertical-align: top;\n",
       "    }\n",
       "\n",
       "    .dataframe thead th {\n",
       "        text-align: right;\n",
       "    }\n",
       "</style>\n",
       "<table border=\"1\" class=\"dataframe\">\n",
       "  <thead>\n",
       "    <tr style=\"text-align: right;\">\n",
       "      <th></th>\n",
       "      <th>movie_id</th>\n",
       "      <th>averagerating</th>\n",
       "      <th>numvotes</th>\n",
       "    </tr>\n",
       "  </thead>\n",
       "  <tbody>\n",
       "    <tr>\n",
       "      <th>0</th>\n",
       "      <td>tt10356526</td>\n",
       "      <td>8.3</td>\n",
       "      <td>31</td>\n",
       "    </tr>\n",
       "    <tr>\n",
       "      <th>1</th>\n",
       "      <td>tt10384606</td>\n",
       "      <td>8.9</td>\n",
       "      <td>559</td>\n",
       "    </tr>\n",
       "    <tr>\n",
       "      <th>2</th>\n",
       "      <td>tt1042974</td>\n",
       "      <td>6.4</td>\n",
       "      <td>20</td>\n",
       "    </tr>\n",
       "    <tr>\n",
       "      <th>3</th>\n",
       "      <td>tt1043726</td>\n",
       "      <td>4.2</td>\n",
       "      <td>50352</td>\n",
       "    </tr>\n",
       "    <tr>\n",
       "      <th>4</th>\n",
       "      <td>tt1060240</td>\n",
       "      <td>6.5</td>\n",
       "      <td>21</td>\n",
       "    </tr>\n",
       "    <tr>\n",
       "      <th>...</th>\n",
       "      <td>...</td>\n",
       "      <td>...</td>\n",
       "      <td>...</td>\n",
       "    </tr>\n",
       "    <tr>\n",
       "      <th>73851</th>\n",
       "      <td>tt9805820</td>\n",
       "      <td>8.1</td>\n",
       "      <td>25</td>\n",
       "    </tr>\n",
       "    <tr>\n",
       "      <th>73852</th>\n",
       "      <td>tt9844256</td>\n",
       "      <td>7.5</td>\n",
       "      <td>24</td>\n",
       "    </tr>\n",
       "    <tr>\n",
       "      <th>73853</th>\n",
       "      <td>tt9851050</td>\n",
       "      <td>4.7</td>\n",
       "      <td>14</td>\n",
       "    </tr>\n",
       "    <tr>\n",
       "      <th>73854</th>\n",
       "      <td>tt9886934</td>\n",
       "      <td>7.0</td>\n",
       "      <td>5</td>\n",
       "    </tr>\n",
       "    <tr>\n",
       "      <th>73855</th>\n",
       "      <td>tt9894098</td>\n",
       "      <td>6.3</td>\n",
       "      <td>128</td>\n",
       "    </tr>\n",
       "  </tbody>\n",
       "</table>\n",
       "<p>73856 rows × 3 columns</p>\n",
       "</div>"
      ],
      "text/plain": [
       "         movie_id  averagerating  numvotes\n",
       "0      tt10356526            8.3        31\n",
       "1      tt10384606            8.9       559\n",
       "2       tt1042974            6.4        20\n",
       "3       tt1043726            4.2     50352\n",
       "4       tt1060240            6.5        21\n",
       "...           ...            ...       ...\n",
       "73851   tt9805820            8.1        25\n",
       "73852   tt9844256            7.5        24\n",
       "73853   tt9851050            4.7        14\n",
       "73854   tt9886934            7.0         5\n",
       "73855   tt9894098            6.3       128\n",
       "\n",
       "[73856 rows x 3 columns]"
      ]
     },
     "execution_count": 15,
     "metadata": {},
     "output_type": "execute_result"
    }
   ],
   "source": [
    "pd.read_sql(\"\"\"\n",
    "SELECT *\n",
    "FROM movie_ratings\n",
    "\"\"\", conn)"
   ]
  },
  {
   "cell_type": "markdown",
   "metadata": {},
   "source": [
    "## Join the two SQL tables"
   ]
  },
  {
   "cell_type": "code",
   "execution_count": 16,
   "metadata": {
    "scrolled": false
   },
   "outputs": [
    {
     "data": {
      "text/html": [
       "<div>\n",
       "<style scoped>\n",
       "    .dataframe tbody tr th:only-of-type {\n",
       "        vertical-align: middle;\n",
       "    }\n",
       "\n",
       "    .dataframe tbody tr th {\n",
       "        vertical-align: top;\n",
       "    }\n",
       "\n",
       "    .dataframe thead th {\n",
       "        text-align: right;\n",
       "    }\n",
       "</style>\n",
       "<table border=\"1\" class=\"dataframe\">\n",
       "  <thead>\n",
       "    <tr style=\"text-align: right;\">\n",
       "      <th></th>\n",
       "      <th>movie_id</th>\n",
       "      <th>averagerating</th>\n",
       "      <th>numvotes</th>\n",
       "      <th>primary_title</th>\n",
       "      <th>original_title</th>\n",
       "      <th>start_year</th>\n",
       "      <th>runtime_minutes</th>\n",
       "      <th>genres</th>\n",
       "    </tr>\n",
       "  </thead>\n",
       "  <tbody>\n",
       "    <tr>\n",
       "      <th>0</th>\n",
       "      <td>tt10356526</td>\n",
       "      <td>8.3</td>\n",
       "      <td>31</td>\n",
       "      <td>Laiye Je Yaarian</td>\n",
       "      <td>Laiye Je Yaarian</td>\n",
       "      <td>2019</td>\n",
       "      <td>117.0</td>\n",
       "      <td>Romance</td>\n",
       "    </tr>\n",
       "    <tr>\n",
       "      <th>1</th>\n",
       "      <td>tt10384606</td>\n",
       "      <td>8.9</td>\n",
       "      <td>559</td>\n",
       "      <td>Borderless</td>\n",
       "      <td>Borderless</td>\n",
       "      <td>2019</td>\n",
       "      <td>87.0</td>\n",
       "      <td>Documentary</td>\n",
       "    </tr>\n",
       "    <tr>\n",
       "      <th>2</th>\n",
       "      <td>tt1042974</td>\n",
       "      <td>6.4</td>\n",
       "      <td>20</td>\n",
       "      <td>Just Inès</td>\n",
       "      <td>Just Inès</td>\n",
       "      <td>2010</td>\n",
       "      <td>90.0</td>\n",
       "      <td>Drama</td>\n",
       "    </tr>\n",
       "    <tr>\n",
       "      <th>3</th>\n",
       "      <td>tt1043726</td>\n",
       "      <td>4.2</td>\n",
       "      <td>50352</td>\n",
       "      <td>The Legend of Hercules</td>\n",
       "      <td>The Legend of Hercules</td>\n",
       "      <td>2014</td>\n",
       "      <td>99.0</td>\n",
       "      <td>Action,Adventure,Fantasy</td>\n",
       "    </tr>\n",
       "    <tr>\n",
       "      <th>4</th>\n",
       "      <td>tt1060240</td>\n",
       "      <td>6.5</td>\n",
       "      <td>21</td>\n",
       "      <td>Até Onde?</td>\n",
       "      <td>Até Onde?</td>\n",
       "      <td>2011</td>\n",
       "      <td>73.0</td>\n",
       "      <td>Mystery,Thriller</td>\n",
       "    </tr>\n",
       "    <tr>\n",
       "      <th>...</th>\n",
       "      <td>...</td>\n",
       "      <td>...</td>\n",
       "      <td>...</td>\n",
       "      <td>...</td>\n",
       "      <td>...</td>\n",
       "      <td>...</td>\n",
       "      <td>...</td>\n",
       "      <td>...</td>\n",
       "    </tr>\n",
       "    <tr>\n",
       "      <th>73851</th>\n",
       "      <td>tt9805820</td>\n",
       "      <td>8.1</td>\n",
       "      <td>25</td>\n",
       "      <td>Caisa</td>\n",
       "      <td>Caisa</td>\n",
       "      <td>2018</td>\n",
       "      <td>84.0</td>\n",
       "      <td>Documentary</td>\n",
       "    </tr>\n",
       "    <tr>\n",
       "      <th>73852</th>\n",
       "      <td>tt9844256</td>\n",
       "      <td>7.5</td>\n",
       "      <td>24</td>\n",
       "      <td>Code Geass: Lelouch of the Rebellion - Glorifi...</td>\n",
       "      <td>Code Geass: Lelouch of the Rebellion Episode III</td>\n",
       "      <td>2018</td>\n",
       "      <td>120.0</td>\n",
       "      <td>Action,Animation,Sci-Fi</td>\n",
       "    </tr>\n",
       "    <tr>\n",
       "      <th>73853</th>\n",
       "      <td>tt9851050</td>\n",
       "      <td>4.7</td>\n",
       "      <td>14</td>\n",
       "      <td>Sisters</td>\n",
       "      <td>Sisters</td>\n",
       "      <td>2019</td>\n",
       "      <td>NaN</td>\n",
       "      <td>Action,Drama</td>\n",
       "    </tr>\n",
       "    <tr>\n",
       "      <th>73854</th>\n",
       "      <td>tt9886934</td>\n",
       "      <td>7.0</td>\n",
       "      <td>5</td>\n",
       "      <td>The Projectionist</td>\n",
       "      <td>The Projectionist</td>\n",
       "      <td>2019</td>\n",
       "      <td>81.0</td>\n",
       "      <td>Documentary</td>\n",
       "    </tr>\n",
       "    <tr>\n",
       "      <th>73855</th>\n",
       "      <td>tt9894098</td>\n",
       "      <td>6.3</td>\n",
       "      <td>128</td>\n",
       "      <td>Sathru</td>\n",
       "      <td>Sathru</td>\n",
       "      <td>2019</td>\n",
       "      <td>129.0</td>\n",
       "      <td>Thriller</td>\n",
       "    </tr>\n",
       "  </tbody>\n",
       "</table>\n",
       "<p>73856 rows × 8 columns</p>\n",
       "</div>"
      ],
      "text/plain": [
       "         movie_id  averagerating  numvotes  \\\n",
       "0      tt10356526            8.3        31   \n",
       "1      tt10384606            8.9       559   \n",
       "2       tt1042974            6.4        20   \n",
       "3       tt1043726            4.2     50352   \n",
       "4       tt1060240            6.5        21   \n",
       "...           ...            ...       ...   \n",
       "73851   tt9805820            8.1        25   \n",
       "73852   tt9844256            7.5        24   \n",
       "73853   tt9851050            4.7        14   \n",
       "73854   tt9886934            7.0         5   \n",
       "73855   tt9894098            6.3       128   \n",
       "\n",
       "                                           primary_title  \\\n",
       "0                                       Laiye Je Yaarian   \n",
       "1                                             Borderless   \n",
       "2                                              Just Inès   \n",
       "3                                 The Legend of Hercules   \n",
       "4                                              Até Onde?   \n",
       "...                                                  ...   \n",
       "73851                                              Caisa   \n",
       "73852  Code Geass: Lelouch of the Rebellion - Glorifi...   \n",
       "73853                                            Sisters   \n",
       "73854                                  The Projectionist   \n",
       "73855                                             Sathru   \n",
       "\n",
       "                                         original_title  start_year  \\\n",
       "0                                      Laiye Je Yaarian        2019   \n",
       "1                                            Borderless        2019   \n",
       "2                                             Just Inès        2010   \n",
       "3                                The Legend of Hercules        2014   \n",
       "4                                             Até Onde?        2011   \n",
       "...                                                 ...         ...   \n",
       "73851                                             Caisa        2018   \n",
       "73852  Code Geass: Lelouch of the Rebellion Episode III        2018   \n",
       "73853                                           Sisters        2019   \n",
       "73854                                 The Projectionist        2019   \n",
       "73855                                            Sathru        2019   \n",
       "\n",
       "       runtime_minutes                    genres  \n",
       "0                117.0                   Romance  \n",
       "1                 87.0               Documentary  \n",
       "2                 90.0                     Drama  \n",
       "3                 99.0  Action,Adventure,Fantasy  \n",
       "4                 73.0          Mystery,Thriller  \n",
       "...                ...                       ...  \n",
       "73851             84.0               Documentary  \n",
       "73852            120.0   Action,Animation,Sci-Fi  \n",
       "73853              NaN              Action,Drama  \n",
       "73854             81.0               Documentary  \n",
       "73855            129.0                  Thriller  \n",
       "\n",
       "[73856 rows x 8 columns]"
      ]
     },
     "execution_count": 16,
     "metadata": {},
     "output_type": "execute_result"
    }
   ],
   "source": [
    "IM_DB = pd.read_sql(\"\"\"\n",
    "SELECT *\n",
    "FROM movie_ratings\n",
    "JOIN movie_basics\n",
    "    USING(movie_id)\n",
    "\"\"\", conn);\n",
    "\n",
    "IM_DB"
   ]
  },
  {
   "cell_type": "markdown",
   "metadata": {},
   "source": [
    "## Merge the combined SQL table with the Movie Gross dataframe\n",
    "\n",
    "We can combine the newly merged SQL table's column primary_title with our movie_gross column title."
   ]
  },
  {
   "cell_type": "code",
   "execution_count": 17,
   "metadata": {
    "scrolled": false
   },
   "outputs": [],
   "source": [
    "ratings_gross = pd.merge(IM_DB, movie_gross, left_on = 'primary_title', right_on = 'title')"
   ]
  },
  {
   "cell_type": "markdown",
   "metadata": {},
   "source": [
    "## Check for duplicates\n",
    "\n",
    "Check how many we have:"
   ]
  },
  {
   "cell_type": "code",
   "execution_count": 18,
   "metadata": {
    "scrolled": false
   },
   "outputs": [
    {
     "data": {
      "text/plain": [
       "(3004, 13)"
      ]
     },
     "execution_count": 18,
     "metadata": {},
     "output_type": "execute_result"
    }
   ],
   "source": [
    "ratings_gross.shape"
   ]
  },
  {
   "cell_type": "code",
   "execution_count": 19,
   "metadata": {
    "scrolled": false
   },
   "outputs": [
    {
     "data": {
      "text/plain": [
       "False    2580\n",
       "True      424\n",
       "Name: title, dtype: int64"
      ]
     },
     "execution_count": 19,
     "metadata": {},
     "output_type": "execute_result"
    }
   ],
   "source": [
    "ratings_gross['title'].duplicated().value_counts()"
   ]
  },
  {
   "cell_type": "markdown",
   "metadata": {},
   "source": [
    "Visually inspect them:"
   ]
  },
  {
   "cell_type": "code",
   "execution_count": 20,
   "metadata": {
    "scrolled": false
   },
   "outputs": [
    {
     "data": {
      "text/html": [
       "<div>\n",
       "<style scoped>\n",
       "    .dataframe tbody tr th:only-of-type {\n",
       "        vertical-align: middle;\n",
       "    }\n",
       "\n",
       "    .dataframe tbody tr th {\n",
       "        vertical-align: top;\n",
       "    }\n",
       "\n",
       "    .dataframe thead th {\n",
       "        text-align: right;\n",
       "    }\n",
       "</style>\n",
       "<table border=\"1\" class=\"dataframe\">\n",
       "  <thead>\n",
       "    <tr style=\"text-align: right;\">\n",
       "      <th></th>\n",
       "      <th>movie_id</th>\n",
       "      <th>averagerating</th>\n",
       "      <th>numvotes</th>\n",
       "      <th>primary_title</th>\n",
       "      <th>original_title</th>\n",
       "      <th>start_year</th>\n",
       "      <th>runtime_minutes</th>\n",
       "      <th>genres</th>\n",
       "      <th>title</th>\n",
       "      <th>studio</th>\n",
       "      <th>domestic_gross</th>\n",
       "      <th>foreign_gross</th>\n",
       "      <th>year</th>\n",
       "    </tr>\n",
       "  </thead>\n",
       "  <tbody>\n",
       "    <tr>\n",
       "      <th>1409</th>\n",
       "      <td>tt1306980</td>\n",
       "      <td>7.7</td>\n",
       "      <td>300475</td>\n",
       "      <td>50/50</td>\n",
       "      <td>50/50</td>\n",
       "      <td>2011</td>\n",
       "      <td>100.0</td>\n",
       "      <td>Comedy,Drama,Romance</td>\n",
       "      <td>50/50</td>\n",
       "      <td>Sum.</td>\n",
       "      <td>35000000.0</td>\n",
       "      <td>4200000.0</td>\n",
       "      <td>2011</td>\n",
       "    </tr>\n",
       "    <tr>\n",
       "      <th>1408</th>\n",
       "      <td>tt1734060</td>\n",
       "      <td>7.5</td>\n",
       "      <td>11</td>\n",
       "      <td>50/50</td>\n",
       "      <td>50/50</td>\n",
       "      <td>2010</td>\n",
       "      <td>77.0</td>\n",
       "      <td>Documentary</td>\n",
       "      <td>50/50</td>\n",
       "      <td>Sum.</td>\n",
       "      <td>35000000.0</td>\n",
       "      <td>4200000.0</td>\n",
       "      <td>2011</td>\n",
       "    </tr>\n",
       "    <tr>\n",
       "      <th>1401</th>\n",
       "      <td>tt2027265</td>\n",
       "      <td>6.6</td>\n",
       "      <td>1519</td>\n",
       "      <td>A Better Life</td>\n",
       "      <td>Une vie meilleure</td>\n",
       "      <td>2011</td>\n",
       "      <td>110.0</td>\n",
       "      <td>Drama</td>\n",
       "      <td>A Better Life</td>\n",
       "      <td>Sum.</td>\n",
       "      <td>1800000.0</td>\n",
       "      <td>NaN</td>\n",
       "      <td>2011</td>\n",
       "    </tr>\n",
       "    <tr>\n",
       "      <th>1400</th>\n",
       "      <td>tt1554091</td>\n",
       "      <td>7.2</td>\n",
       "      <td>14602</td>\n",
       "      <td>A Better Life</td>\n",
       "      <td>A Better Life</td>\n",
       "      <td>2011</td>\n",
       "      <td>98.0</td>\n",
       "      <td>Drama,Romance</td>\n",
       "      <td>A Better Life</td>\n",
       "      <td>Sum.</td>\n",
       "      <td>1800000.0</td>\n",
       "      <td>NaN</td>\n",
       "      <td>2011</td>\n",
       "    </tr>\n",
       "    <tr>\n",
       "      <th>976</th>\n",
       "      <td>tt6644200</td>\n",
       "      <td>7.6</td>\n",
       "      <td>305031</td>\n",
       "      <td>A Quiet Place</td>\n",
       "      <td>A Quiet Place</td>\n",
       "      <td>2018</td>\n",
       "      <td>90.0</td>\n",
       "      <td>Drama,Horror,Sci-Fi</td>\n",
       "      <td>A Quiet Place</td>\n",
       "      <td>Par.</td>\n",
       "      <td>188000000.0</td>\n",
       "      <td>152900000.0</td>\n",
       "      <td>2018</td>\n",
       "    </tr>\n",
       "    <tr>\n",
       "      <th>...</th>\n",
       "      <td>...</td>\n",
       "      <td>...</td>\n",
       "      <td>...</td>\n",
       "      <td>...</td>\n",
       "      <td>...</td>\n",
       "      <td>...</td>\n",
       "      <td>...</td>\n",
       "      <td>...</td>\n",
       "      <td>...</td>\n",
       "      <td>...</td>\n",
       "      <td>...</td>\n",
       "      <td>...</td>\n",
       "      <td>...</td>\n",
       "    </tr>\n",
       "    <tr>\n",
       "      <th>701</th>\n",
       "      <td>tt2670524</td>\n",
       "      <td>6.1</td>\n",
       "      <td>327</td>\n",
       "      <td>Youth</td>\n",
       "      <td>Youth</td>\n",
       "      <td>2013</td>\n",
       "      <td>107.0</td>\n",
       "      <td>Drama</td>\n",
       "      <td>Youth</td>\n",
       "      <td>FoxS</td>\n",
       "      <td>2700000.0</td>\n",
       "      <td>NaN</td>\n",
       "      <td>2015</td>\n",
       "    </tr>\n",
       "    <tr>\n",
       "      <th>702</th>\n",
       "      <td>tt5671384</td>\n",
       "      <td>7.3</td>\n",
       "      <td>11</td>\n",
       "      <td>Youth</td>\n",
       "      <td>Youth</td>\n",
       "      <td>2016</td>\n",
       "      <td>124.0</td>\n",
       "      <td>Drama</td>\n",
       "      <td>Youth</td>\n",
       "      <td>FoxS</td>\n",
       "      <td>2700000.0</td>\n",
       "      <td>NaN</td>\n",
       "      <td>2015</td>\n",
       "    </tr>\n",
       "    <tr>\n",
       "      <th>703</th>\n",
       "      <td>tt6654316</td>\n",
       "      <td>7.1</td>\n",
       "      <td>2221</td>\n",
       "      <td>Youth</td>\n",
       "      <td>Fang hua</td>\n",
       "      <td>2017</td>\n",
       "      <td>135.0</td>\n",
       "      <td>Drama,Romance,War</td>\n",
       "      <td>Youth</td>\n",
       "      <td>FoxS</td>\n",
       "      <td>2700000.0</td>\n",
       "      <td>NaN</td>\n",
       "      <td>2015</td>\n",
       "    </tr>\n",
       "    <tr>\n",
       "      <th>704</th>\n",
       "      <td>tt2536448</td>\n",
       "      <td>6.6</td>\n",
       "      <td>36</td>\n",
       "      <td>Youth</td>\n",
       "      <td>Jeunesse</td>\n",
       "      <td>2012</td>\n",
       "      <td>75.0</td>\n",
       "      <td>Drama,Family</td>\n",
       "      <td>Youth</td>\n",
       "      <td>FoxS</td>\n",
       "      <td>2700000.0</td>\n",
       "      <td>NaN</td>\n",
       "      <td>2015</td>\n",
       "    </tr>\n",
       "    <tr>\n",
       "      <th>705</th>\n",
       "      <td>tt3312830</td>\n",
       "      <td>7.3</td>\n",
       "      <td>64418</td>\n",
       "      <td>Youth</td>\n",
       "      <td>Youth</td>\n",
       "      <td>2015</td>\n",
       "      <td>124.0</td>\n",
       "      <td>Comedy,Drama,Music</td>\n",
       "      <td>Youth</td>\n",
       "      <td>FoxS</td>\n",
       "      <td>2700000.0</td>\n",
       "      <td>NaN</td>\n",
       "      <td>2015</td>\n",
       "    </tr>\n",
       "  </tbody>\n",
       "</table>\n",
       "<p>711 rows × 13 columns</p>\n",
       "</div>"
      ],
      "text/plain": [
       "       movie_id  averagerating  numvotes  primary_title     original_title  \\\n",
       "1409  tt1306980            7.7    300475          50/50              50/50   \n",
       "1408  tt1734060            7.5        11          50/50              50/50   \n",
       "1401  tt2027265            6.6      1519  A Better Life  Une vie meilleure   \n",
       "1400  tt1554091            7.2     14602  A Better Life      A Better Life   \n",
       "976   tt6644200            7.6    305031  A Quiet Place      A Quiet Place   \n",
       "...         ...            ...       ...            ...                ...   \n",
       "701   tt2670524            6.1       327          Youth              Youth   \n",
       "702   tt5671384            7.3        11          Youth              Youth   \n",
       "703   tt6654316            7.1      2221          Youth           Fang hua   \n",
       "704   tt2536448            6.6        36          Youth           Jeunesse   \n",
       "705   tt3312830            7.3     64418          Youth              Youth   \n",
       "\n",
       "      start_year  runtime_minutes                genres          title studio  \\\n",
       "1409        2011            100.0  Comedy,Drama,Romance          50/50   Sum.   \n",
       "1408        2010             77.0           Documentary          50/50   Sum.   \n",
       "1401        2011            110.0                 Drama  A Better Life   Sum.   \n",
       "1400        2011             98.0         Drama,Romance  A Better Life   Sum.   \n",
       "976         2018             90.0   Drama,Horror,Sci-Fi  A Quiet Place   Par.   \n",
       "...          ...              ...                   ...            ...    ...   \n",
       "701         2013            107.0                 Drama          Youth   FoxS   \n",
       "702         2016            124.0                 Drama          Youth   FoxS   \n",
       "703         2017            135.0     Drama,Romance,War          Youth   FoxS   \n",
       "704         2012             75.0          Drama,Family          Youth   FoxS   \n",
       "705         2015            124.0    Comedy,Drama,Music          Youth   FoxS   \n",
       "\n",
       "      domestic_gross  foreign_gross  year  \n",
       "1409      35000000.0      4200000.0  2011  \n",
       "1408      35000000.0      4200000.0  2011  \n",
       "1401       1800000.0            NaN  2011  \n",
       "1400       1800000.0            NaN  2011  \n",
       "976      188000000.0    152900000.0  2018  \n",
       "...              ...            ...   ...  \n",
       "701        2700000.0            NaN  2015  \n",
       "702        2700000.0            NaN  2015  \n",
       "703        2700000.0            NaN  2015  \n",
       "704        2700000.0            NaN  2015  \n",
       "705        2700000.0            NaN  2015  \n",
       "\n",
       "[711 rows x 13 columns]"
      ]
     },
     "execution_count": 20,
     "metadata": {},
     "output_type": "execute_result"
    }
   ],
   "source": [
    "ratings_gross[ratings_gross['title'].duplicated(keep=False)].sort_values(by='title')"
   ]
  },
  {
   "cell_type": "markdown",
   "metadata": {},
   "source": [
    "## Remove duplicates"
   ]
  },
  {
   "cell_type": "code",
   "execution_count": 21,
   "metadata": {
    "scrolled": false
   },
   "outputs": [
    {
     "data": {
      "text/plain": [
       "(2580, 13)"
      ]
     },
     "execution_count": 21,
     "metadata": {},
     "output_type": "execute_result"
    }
   ],
   "source": [
    "ratings_gross = ratings_gross.drop_duplicates(subset='title')\n",
    "ratings_gross.shape # Previously this was (3004, 13), now we have dropped the duplicated rows"
   ]
  },
  {
   "cell_type": "markdown",
   "metadata": {},
   "source": [
    "## Recheck for duplicates"
   ]
  },
  {
   "cell_type": "code",
   "execution_count": 22,
   "metadata": {
    "scrolled": false
   },
   "outputs": [
    {
     "data": {
      "text/plain": [
       "False    2580\n",
       "Name: title, dtype: int64"
      ]
     },
     "execution_count": 22,
     "metadata": {},
     "output_type": "execute_result"
    }
   ],
   "source": [
    "ratings_gross['title'].duplicated().value_counts() # Duplicates no longer exist"
   ]
  },
  {
   "cell_type": "markdown",
   "metadata": {},
   "source": [
    "## Data Analysis\n",
    "-------\n",
    "\n",
    "The first recommendation I want to give is what movie genre(s) should Microsoft Studios focus on for their films. To do this, I wanted to look at the top grossing movies ($25M+) and see what genres appear most often."
   ]
  },
  {
   "cell_type": "code",
   "execution_count": 23,
   "metadata": {},
   "outputs": [],
   "source": [
    "ratings_gross_copy = ratings_gross.copy() # Create a copy of this dataframe to be used later"
   ]
  },
  {
   "cell_type": "code",
   "execution_count": 24,
   "metadata": {
    "scrolled": false
   },
   "outputs": [
    {
     "data": {
      "text/plain": [
       "736"
      ]
     },
     "execution_count": 24,
     "metadata": {},
     "output_type": "execute_result"
    }
   ],
   "source": [
    "# Filter our table for movies that have grossed over $25M\n",
    "ratings_gross = ratings_gross[ratings_gross['domestic_gross'] > 25000000]\n",
    "\n",
    "# Make sure we are working with a large enough dataset\n",
    "len(ratings_gross) \n",
    "# 736 seems like a large enough data set"
   ]
  },
  {
   "cell_type": "code",
   "execution_count": 25,
   "metadata": {
    "scrolled": false
   },
   "outputs": [
    {
     "data": {
      "text/plain": [
       "147"
      ]
     },
     "execution_count": 25,
     "metadata": {},
     "output_type": "execute_result"
    }
   ],
   "source": [
    "# Find the number of unique genres\n",
    "ratings_gross['genres'].nunique()"
   ]
  },
  {
   "cell_type": "markdown",
   "metadata": {},
   "source": [
    "Because each movie can have up to 3 genres listed, we see that we would be working with 147 unique genres. Since it is hard to interpret that many different combinations of genres, I am going to break them out into each specific genre rather than a combination of the genres."
   ]
  },
  {
   "cell_type": "code",
   "execution_count": 26,
   "metadata": {
    "scrolled": false
   },
   "outputs": [
    {
     "data": {
      "text/html": [
       "<div>\n",
       "<style scoped>\n",
       "    .dataframe tbody tr th:only-of-type {\n",
       "        vertical-align: middle;\n",
       "    }\n",
       "\n",
       "    .dataframe tbody tr th {\n",
       "        vertical-align: top;\n",
       "    }\n",
       "\n",
       "    .dataframe thead th {\n",
       "        text-align: right;\n",
       "    }\n",
       "</style>\n",
       "<table border=\"1\" class=\"dataframe\">\n",
       "  <thead>\n",
       "    <tr style=\"text-align: right;\">\n",
       "      <th></th>\n",
       "      <th>movie_id</th>\n",
       "      <th>averagerating</th>\n",
       "      <th>numvotes</th>\n",
       "      <th>primary_title</th>\n",
       "      <th>original_title</th>\n",
       "      <th>start_year</th>\n",
       "      <th>runtime_minutes</th>\n",
       "      <th>genres</th>\n",
       "      <th>title</th>\n",
       "      <th>studio</th>\n",
       "      <th>domestic_gross</th>\n",
       "      <th>foreign_gross</th>\n",
       "      <th>year</th>\n",
       "    </tr>\n",
       "  </thead>\n",
       "  <tbody>\n",
       "    <tr>\n",
       "      <th>2</th>\n",
       "      <td>tt1210166</td>\n",
       "      <td>7.6</td>\n",
       "      <td>326657</td>\n",
       "      <td>Moneyball</td>\n",
       "      <td>Moneyball</td>\n",
       "      <td>2011</td>\n",
       "      <td>133.0</td>\n",
       "      <td>[Biography, Drama, Sport]</td>\n",
       "      <td>Moneyball</td>\n",
       "      <td>Sony</td>\n",
       "      <td>75600000.0</td>\n",
       "      <td>34600000.0</td>\n",
       "      <td>2011</td>\n",
       "    </tr>\n",
       "    <tr>\n",
       "      <th>3</th>\n",
       "      <td>tt1212419</td>\n",
       "      <td>6.5</td>\n",
       "      <td>87288</td>\n",
       "      <td>Hereafter</td>\n",
       "      <td>Hereafter</td>\n",
       "      <td>2010</td>\n",
       "      <td>129.0</td>\n",
       "      <td>[Drama, Fantasy, Romance]</td>\n",
       "      <td>Hereafter</td>\n",
       "      <td>WB</td>\n",
       "      <td>32700000.0</td>\n",
       "      <td>72500000.0</td>\n",
       "      <td>2010</td>\n",
       "    </tr>\n",
       "    <tr>\n",
       "      <th>4</th>\n",
       "      <td>tt1229238</td>\n",
       "      <td>7.4</td>\n",
       "      <td>428142</td>\n",
       "      <td>Mission: Impossible - Ghost Protocol</td>\n",
       "      <td>Mission: Impossible - Ghost Protocol</td>\n",
       "      <td>2011</td>\n",
       "      <td>132.0</td>\n",
       "      <td>[Action, Adventure, Thriller]</td>\n",
       "      <td>Mission: Impossible - Ghost Protocol</td>\n",
       "      <td>Par.</td>\n",
       "      <td>209400000.0</td>\n",
       "      <td>485300000.0</td>\n",
       "      <td>2011</td>\n",
       "    </tr>\n",
       "    <tr>\n",
       "      <th>5</th>\n",
       "      <td>tt1232829</td>\n",
       "      <td>7.2</td>\n",
       "      <td>477771</td>\n",
       "      <td>21 Jump Street</td>\n",
       "      <td>21 Jump Street</td>\n",
       "      <td>2012</td>\n",
       "      <td>109.0</td>\n",
       "      <td>[Action, Comedy, Crime]</td>\n",
       "      <td>21 Jump Street</td>\n",
       "      <td>Sony</td>\n",
       "      <td>138400000.0</td>\n",
       "      <td>63100000.0</td>\n",
       "      <td>2012</td>\n",
       "    </tr>\n",
       "    <tr>\n",
       "      <th>7</th>\n",
       "      <td>tt1261945</td>\n",
       "      <td>4.4</td>\n",
       "      <td>69199</td>\n",
       "      <td>Sex and the City 2</td>\n",
       "      <td>Sex and the City 2</td>\n",
       "      <td>2010</td>\n",
       "      <td>146.0</td>\n",
       "      <td>[Comedy, Drama, Romance]</td>\n",
       "      <td>Sex and the City 2</td>\n",
       "      <td>WB (NL)</td>\n",
       "      <td>95300000.0</td>\n",
       "      <td>193000000.0</td>\n",
       "      <td>2010</td>\n",
       "    </tr>\n",
       "  </tbody>\n",
       "</table>\n",
       "</div>"
      ],
      "text/plain": [
       "    movie_id  averagerating  numvotes                         primary_title  \\\n",
       "2  tt1210166            7.6    326657                             Moneyball   \n",
       "3  tt1212419            6.5     87288                             Hereafter   \n",
       "4  tt1229238            7.4    428142  Mission: Impossible - Ghost Protocol   \n",
       "5  tt1232829            7.2    477771                        21 Jump Street   \n",
       "7  tt1261945            4.4     69199                    Sex and the City 2   \n",
       "\n",
       "                         original_title  start_year  runtime_minutes  \\\n",
       "2                             Moneyball        2011            133.0   \n",
       "3                             Hereafter        2010            129.0   \n",
       "4  Mission: Impossible - Ghost Protocol        2011            132.0   \n",
       "5                        21 Jump Street        2012            109.0   \n",
       "7                    Sex and the City 2        2010            146.0   \n",
       "\n",
       "                          genres                                 title  \\\n",
       "2      [Biography, Drama, Sport]                             Moneyball   \n",
       "3      [Drama, Fantasy, Romance]                             Hereafter   \n",
       "4  [Action, Adventure, Thriller]  Mission: Impossible - Ghost Protocol   \n",
       "5        [Action, Comedy, Crime]                        21 Jump Street   \n",
       "7       [Comedy, Drama, Romance]                    Sex and the City 2   \n",
       "\n",
       "    studio  domestic_gross  foreign_gross  year  \n",
       "2     Sony      75600000.0     34600000.0  2011  \n",
       "3       WB      32700000.0     72500000.0  2010  \n",
       "4     Par.     209400000.0    485300000.0  2011  \n",
       "5     Sony     138400000.0     63100000.0  2012  \n",
       "7  WB (NL)      95300000.0    193000000.0  2010  "
      ]
     },
     "execution_count": 26,
     "metadata": {},
     "output_type": "execute_result"
    }
   ],
   "source": [
    "# Use a lambda function to iterate through each list within the genres column\n",
    "# and make a split on the comma, if there is one, and leave if there isnt a comma\n",
    "ratings_gross['genres'] = ratings_gross['genres'].apply(\n",
    "    lambda x: x.split(\",\") if x else x)\n",
    "# Check that the changes took place\n",
    "ratings_gross.head()"
   ]
  },
  {
   "cell_type": "markdown",
   "metadata": {},
   "source": [
    "We can see that the genre column is now a list, denoted by the square brackets [...] around each genre. Next, we want to get a list of all the genres that are mentioned but only include each genre once rather than repeating. To do this, we can call for a set."
   ]
  },
  {
   "cell_type": "code",
   "execution_count": 27,
   "metadata": {
    "scrolled": false
   },
   "outputs": [],
   "source": [
    "# Create an empty set\n",
    "all_genres = set()\n",
    "# Iterate through genres column for each element\n",
    "for genres in ratings_gross['genres']:\n",
    "    if genres:\n",
    "        # add genre to the set\n",
    "        all_genres.update(genres)"
   ]
  },
  {
   "cell_type": "code",
   "execution_count": 28,
   "metadata": {
    "scrolled": false
   },
   "outputs": [
    {
     "data": {
      "text/plain": [
       "{'Action',\n",
       " 'Adventure',\n",
       " 'Animation',\n",
       " 'Biography',\n",
       " 'Comedy',\n",
       " 'Crime',\n",
       " 'Documentary',\n",
       " 'Drama',\n",
       " 'Family',\n",
       " 'Fantasy',\n",
       " 'History',\n",
       " 'Horror',\n",
       " 'Music',\n",
       " 'Musical',\n",
       " 'Mystery',\n",
       " 'Romance',\n",
       " 'Sci-Fi',\n",
       " 'Sport',\n",
       " 'Thriller',\n",
       " 'War',\n",
       " 'Western'}"
      ]
     },
     "execution_count": 28,
     "metadata": {},
     "output_type": "execute_result"
    }
   ],
   "source": [
    "all_genres # Check to see if it worked"
   ]
  },
  {
   "cell_type": "markdown",
   "metadata": {},
   "source": [
    "Now we want to add in columns for each genre and set the values equal to 0."
   ]
  },
  {
   "cell_type": "code",
   "execution_count": 29,
   "metadata": {
    "scrolled": false
   },
   "outputs": [
    {
     "data": {
      "text/html": [
       "<div>\n",
       "<style scoped>\n",
       "    .dataframe tbody tr th:only-of-type {\n",
       "        vertical-align: middle;\n",
       "    }\n",
       "\n",
       "    .dataframe tbody tr th {\n",
       "        vertical-align: top;\n",
       "    }\n",
       "\n",
       "    .dataframe thead th {\n",
       "        text-align: right;\n",
       "    }\n",
       "</style>\n",
       "<table border=\"1\" class=\"dataframe\">\n",
       "  <thead>\n",
       "    <tr style=\"text-align: right;\">\n",
       "      <th></th>\n",
       "      <th>movie_id</th>\n",
       "      <th>averagerating</th>\n",
       "      <th>numvotes</th>\n",
       "      <th>primary_title</th>\n",
       "      <th>original_title</th>\n",
       "      <th>start_year</th>\n",
       "      <th>runtime_minutes</th>\n",
       "      <th>genres</th>\n",
       "      <th>title</th>\n",
       "      <th>studio</th>\n",
       "      <th>...</th>\n",
       "      <th>Drama</th>\n",
       "      <th>Sport</th>\n",
       "      <th>Horror</th>\n",
       "      <th>Music</th>\n",
       "      <th>Thriller</th>\n",
       "      <th>History</th>\n",
       "      <th>Action</th>\n",
       "      <th>Fantasy</th>\n",
       "      <th>War</th>\n",
       "      <th>Musical</th>\n",
       "    </tr>\n",
       "  </thead>\n",
       "  <tbody>\n",
       "    <tr>\n",
       "      <th>2</th>\n",
       "      <td>tt1210166</td>\n",
       "      <td>7.6</td>\n",
       "      <td>326657</td>\n",
       "      <td>Moneyball</td>\n",
       "      <td>Moneyball</td>\n",
       "      <td>2011</td>\n",
       "      <td>133.0</td>\n",
       "      <td>[Biography, Drama, Sport]</td>\n",
       "      <td>Moneyball</td>\n",
       "      <td>Sony</td>\n",
       "      <td>...</td>\n",
       "      <td>0.0</td>\n",
       "      <td>0.0</td>\n",
       "      <td>0.0</td>\n",
       "      <td>0.0</td>\n",
       "      <td>0.0</td>\n",
       "      <td>0.0</td>\n",
       "      <td>0.0</td>\n",
       "      <td>0.0</td>\n",
       "      <td>0.0</td>\n",
       "      <td>0.0</td>\n",
       "    </tr>\n",
       "    <tr>\n",
       "      <th>3</th>\n",
       "      <td>tt1212419</td>\n",
       "      <td>6.5</td>\n",
       "      <td>87288</td>\n",
       "      <td>Hereafter</td>\n",
       "      <td>Hereafter</td>\n",
       "      <td>2010</td>\n",
       "      <td>129.0</td>\n",
       "      <td>[Drama, Fantasy, Romance]</td>\n",
       "      <td>Hereafter</td>\n",
       "      <td>WB</td>\n",
       "      <td>...</td>\n",
       "      <td>0.0</td>\n",
       "      <td>0.0</td>\n",
       "      <td>0.0</td>\n",
       "      <td>0.0</td>\n",
       "      <td>0.0</td>\n",
       "      <td>0.0</td>\n",
       "      <td>0.0</td>\n",
       "      <td>0.0</td>\n",
       "      <td>0.0</td>\n",
       "      <td>0.0</td>\n",
       "    </tr>\n",
       "    <tr>\n",
       "      <th>4</th>\n",
       "      <td>tt1229238</td>\n",
       "      <td>7.4</td>\n",
       "      <td>428142</td>\n",
       "      <td>Mission: Impossible - Ghost Protocol</td>\n",
       "      <td>Mission: Impossible - Ghost Protocol</td>\n",
       "      <td>2011</td>\n",
       "      <td>132.0</td>\n",
       "      <td>[Action, Adventure, Thriller]</td>\n",
       "      <td>Mission: Impossible - Ghost Protocol</td>\n",
       "      <td>Par.</td>\n",
       "      <td>...</td>\n",
       "      <td>0.0</td>\n",
       "      <td>0.0</td>\n",
       "      <td>0.0</td>\n",
       "      <td>0.0</td>\n",
       "      <td>0.0</td>\n",
       "      <td>0.0</td>\n",
       "      <td>0.0</td>\n",
       "      <td>0.0</td>\n",
       "      <td>0.0</td>\n",
       "      <td>0.0</td>\n",
       "    </tr>\n",
       "    <tr>\n",
       "      <th>5</th>\n",
       "      <td>tt1232829</td>\n",
       "      <td>7.2</td>\n",
       "      <td>477771</td>\n",
       "      <td>21 Jump Street</td>\n",
       "      <td>21 Jump Street</td>\n",
       "      <td>2012</td>\n",
       "      <td>109.0</td>\n",
       "      <td>[Action, Comedy, Crime]</td>\n",
       "      <td>21 Jump Street</td>\n",
       "      <td>Sony</td>\n",
       "      <td>...</td>\n",
       "      <td>0.0</td>\n",
       "      <td>0.0</td>\n",
       "      <td>0.0</td>\n",
       "      <td>0.0</td>\n",
       "      <td>0.0</td>\n",
       "      <td>0.0</td>\n",
       "      <td>0.0</td>\n",
       "      <td>0.0</td>\n",
       "      <td>0.0</td>\n",
       "      <td>0.0</td>\n",
       "    </tr>\n",
       "    <tr>\n",
       "      <th>7</th>\n",
       "      <td>tt1261945</td>\n",
       "      <td>4.4</td>\n",
       "      <td>69199</td>\n",
       "      <td>Sex and the City 2</td>\n",
       "      <td>Sex and the City 2</td>\n",
       "      <td>2010</td>\n",
       "      <td>146.0</td>\n",
       "      <td>[Comedy, Drama, Romance]</td>\n",
       "      <td>Sex and the City 2</td>\n",
       "      <td>WB (NL)</td>\n",
       "      <td>...</td>\n",
       "      <td>0.0</td>\n",
       "      <td>0.0</td>\n",
       "      <td>0.0</td>\n",
       "      <td>0.0</td>\n",
       "      <td>0.0</td>\n",
       "      <td>0.0</td>\n",
       "      <td>0.0</td>\n",
       "      <td>0.0</td>\n",
       "      <td>0.0</td>\n",
       "      <td>0.0</td>\n",
       "    </tr>\n",
       "  </tbody>\n",
       "</table>\n",
       "<p>5 rows × 34 columns</p>\n",
       "</div>"
      ],
      "text/plain": [
       "    movie_id  averagerating  numvotes                         primary_title  \\\n",
       "2  tt1210166            7.6    326657                             Moneyball   \n",
       "3  tt1212419            6.5     87288                             Hereafter   \n",
       "4  tt1229238            7.4    428142  Mission: Impossible - Ghost Protocol   \n",
       "5  tt1232829            7.2    477771                        21 Jump Street   \n",
       "7  tt1261945            4.4     69199                    Sex and the City 2   \n",
       "\n",
       "                         original_title  start_year  runtime_minutes  \\\n",
       "2                             Moneyball        2011            133.0   \n",
       "3                             Hereafter        2010            129.0   \n",
       "4  Mission: Impossible - Ghost Protocol        2011            132.0   \n",
       "5                        21 Jump Street        2012            109.0   \n",
       "7                    Sex and the City 2        2010            146.0   \n",
       "\n",
       "                          genres                                 title  \\\n",
       "2      [Biography, Drama, Sport]                             Moneyball   \n",
       "3      [Drama, Fantasy, Romance]                             Hereafter   \n",
       "4  [Action, Adventure, Thriller]  Mission: Impossible - Ghost Protocol   \n",
       "5        [Action, Comedy, Crime]                        21 Jump Street   \n",
       "7       [Comedy, Drama, Romance]                    Sex and the City 2   \n",
       "\n",
       "    studio  ...  Drama  Sport  Horror  Music  Thriller  History  Action  \\\n",
       "2     Sony  ...    0.0    0.0     0.0    0.0       0.0      0.0     0.0   \n",
       "3       WB  ...    0.0    0.0     0.0    0.0       0.0      0.0     0.0   \n",
       "4     Par.  ...    0.0    0.0     0.0    0.0       0.0      0.0     0.0   \n",
       "5     Sony  ...    0.0    0.0     0.0    0.0       0.0      0.0     0.0   \n",
       "7  WB (NL)  ...    0.0    0.0     0.0    0.0       0.0      0.0     0.0   \n",
       "\n",
       "   Fantasy  War  Musical  \n",
       "2      0.0  0.0      0.0  \n",
       "3      0.0  0.0      0.0  \n",
       "4      0.0  0.0      0.0  \n",
       "5      0.0  0.0      0.0  \n",
       "7      0.0  0.0      0.0  \n",
       "\n",
       "[5 rows x 34 columns]"
      ]
     },
     "execution_count": 29,
     "metadata": {},
     "output_type": "execute_result"
    }
   ],
   "source": [
    "# Iterate through the set\n",
    "for genre in all_genres:\n",
    "    # Make a new column in dataframe and fill the columns with zeros\n",
    "    ratings_gross[genre] = np.zeros(shape=ratings_gross.shape[0])\n",
    "# Check that the changes took place                               \n",
    "ratings_gross.head()"
   ]
  },
  {
   "cell_type": "markdown",
   "metadata": {},
   "source": [
    "Next we need to iterate through our genres column and add 1 to each genre each time the specific genre is mentioned per title."
   ]
  },
  {
   "cell_type": "code",
   "execution_count": 30,
   "metadata": {
    "scrolled": false
   },
   "outputs": [
    {
     "data": {
      "text/html": [
       "<div>\n",
       "<style scoped>\n",
       "    .dataframe tbody tr th:only-of-type {\n",
       "        vertical-align: middle;\n",
       "    }\n",
       "\n",
       "    .dataframe tbody tr th {\n",
       "        vertical-align: top;\n",
       "    }\n",
       "\n",
       "    .dataframe thead th {\n",
       "        text-align: right;\n",
       "    }\n",
       "</style>\n",
       "<table border=\"1\" class=\"dataframe\">\n",
       "  <thead>\n",
       "    <tr style=\"text-align: right;\">\n",
       "      <th></th>\n",
       "      <th>movie_id</th>\n",
       "      <th>averagerating</th>\n",
       "      <th>numvotes</th>\n",
       "      <th>primary_title</th>\n",
       "      <th>original_title</th>\n",
       "      <th>start_year</th>\n",
       "      <th>runtime_minutes</th>\n",
       "      <th>genres</th>\n",
       "      <th>title</th>\n",
       "      <th>studio</th>\n",
       "      <th>...</th>\n",
       "      <th>Drama</th>\n",
       "      <th>Sport</th>\n",
       "      <th>Horror</th>\n",
       "      <th>Music</th>\n",
       "      <th>Thriller</th>\n",
       "      <th>History</th>\n",
       "      <th>Action</th>\n",
       "      <th>Fantasy</th>\n",
       "      <th>War</th>\n",
       "      <th>Musical</th>\n",
       "    </tr>\n",
       "  </thead>\n",
       "  <tbody>\n",
       "    <tr>\n",
       "      <th>2</th>\n",
       "      <td>tt1210166</td>\n",
       "      <td>7.6</td>\n",
       "      <td>326657</td>\n",
       "      <td>Moneyball</td>\n",
       "      <td>Moneyball</td>\n",
       "      <td>2011</td>\n",
       "      <td>133.0</td>\n",
       "      <td>[Biography, Drama, Sport]</td>\n",
       "      <td>Moneyball</td>\n",
       "      <td>Sony</td>\n",
       "      <td>...</td>\n",
       "      <td>1.0</td>\n",
       "      <td>1.0</td>\n",
       "      <td>0.0</td>\n",
       "      <td>0.0</td>\n",
       "      <td>0.0</td>\n",
       "      <td>0.0</td>\n",
       "      <td>0.0</td>\n",
       "      <td>0.0</td>\n",
       "      <td>0.0</td>\n",
       "      <td>0.0</td>\n",
       "    </tr>\n",
       "    <tr>\n",
       "      <th>3</th>\n",
       "      <td>tt1212419</td>\n",
       "      <td>6.5</td>\n",
       "      <td>87288</td>\n",
       "      <td>Hereafter</td>\n",
       "      <td>Hereafter</td>\n",
       "      <td>2010</td>\n",
       "      <td>129.0</td>\n",
       "      <td>[Drama, Fantasy, Romance]</td>\n",
       "      <td>Hereafter</td>\n",
       "      <td>WB</td>\n",
       "      <td>...</td>\n",
       "      <td>1.0</td>\n",
       "      <td>0.0</td>\n",
       "      <td>0.0</td>\n",
       "      <td>0.0</td>\n",
       "      <td>0.0</td>\n",
       "      <td>0.0</td>\n",
       "      <td>0.0</td>\n",
       "      <td>1.0</td>\n",
       "      <td>0.0</td>\n",
       "      <td>0.0</td>\n",
       "    </tr>\n",
       "    <tr>\n",
       "      <th>4</th>\n",
       "      <td>tt1229238</td>\n",
       "      <td>7.4</td>\n",
       "      <td>428142</td>\n",
       "      <td>Mission: Impossible - Ghost Protocol</td>\n",
       "      <td>Mission: Impossible - Ghost Protocol</td>\n",
       "      <td>2011</td>\n",
       "      <td>132.0</td>\n",
       "      <td>[Action, Adventure, Thriller]</td>\n",
       "      <td>Mission: Impossible - Ghost Protocol</td>\n",
       "      <td>Par.</td>\n",
       "      <td>...</td>\n",
       "      <td>0.0</td>\n",
       "      <td>0.0</td>\n",
       "      <td>0.0</td>\n",
       "      <td>0.0</td>\n",
       "      <td>1.0</td>\n",
       "      <td>0.0</td>\n",
       "      <td>1.0</td>\n",
       "      <td>0.0</td>\n",
       "      <td>0.0</td>\n",
       "      <td>0.0</td>\n",
       "    </tr>\n",
       "    <tr>\n",
       "      <th>5</th>\n",
       "      <td>tt1232829</td>\n",
       "      <td>7.2</td>\n",
       "      <td>477771</td>\n",
       "      <td>21 Jump Street</td>\n",
       "      <td>21 Jump Street</td>\n",
       "      <td>2012</td>\n",
       "      <td>109.0</td>\n",
       "      <td>[Action, Comedy, Crime]</td>\n",
       "      <td>21 Jump Street</td>\n",
       "      <td>Sony</td>\n",
       "      <td>...</td>\n",
       "      <td>0.0</td>\n",
       "      <td>0.0</td>\n",
       "      <td>0.0</td>\n",
       "      <td>0.0</td>\n",
       "      <td>0.0</td>\n",
       "      <td>0.0</td>\n",
       "      <td>1.0</td>\n",
       "      <td>0.0</td>\n",
       "      <td>0.0</td>\n",
       "      <td>0.0</td>\n",
       "    </tr>\n",
       "    <tr>\n",
       "      <th>7</th>\n",
       "      <td>tt1261945</td>\n",
       "      <td>4.4</td>\n",
       "      <td>69199</td>\n",
       "      <td>Sex and the City 2</td>\n",
       "      <td>Sex and the City 2</td>\n",
       "      <td>2010</td>\n",
       "      <td>146.0</td>\n",
       "      <td>[Comedy, Drama, Romance]</td>\n",
       "      <td>Sex and the City 2</td>\n",
       "      <td>WB (NL)</td>\n",
       "      <td>...</td>\n",
       "      <td>1.0</td>\n",
       "      <td>0.0</td>\n",
       "      <td>0.0</td>\n",
       "      <td>0.0</td>\n",
       "      <td>0.0</td>\n",
       "      <td>0.0</td>\n",
       "      <td>0.0</td>\n",
       "      <td>0.0</td>\n",
       "      <td>0.0</td>\n",
       "      <td>0.0</td>\n",
       "    </tr>\n",
       "  </tbody>\n",
       "</table>\n",
       "<p>5 rows × 34 columns</p>\n",
       "</div>"
      ],
      "text/plain": [
       "    movie_id  averagerating  numvotes                         primary_title  \\\n",
       "2  tt1210166            7.6    326657                             Moneyball   \n",
       "3  tt1212419            6.5     87288                             Hereafter   \n",
       "4  tt1229238            7.4    428142  Mission: Impossible - Ghost Protocol   \n",
       "5  tt1232829            7.2    477771                        21 Jump Street   \n",
       "7  tt1261945            4.4     69199                    Sex and the City 2   \n",
       "\n",
       "                         original_title  start_year  runtime_minutes  \\\n",
       "2                             Moneyball        2011            133.0   \n",
       "3                             Hereafter        2010            129.0   \n",
       "4  Mission: Impossible - Ghost Protocol        2011            132.0   \n",
       "5                        21 Jump Street        2012            109.0   \n",
       "7                    Sex and the City 2        2010            146.0   \n",
       "\n",
       "                          genres                                 title  \\\n",
       "2      [Biography, Drama, Sport]                             Moneyball   \n",
       "3      [Drama, Fantasy, Romance]                             Hereafter   \n",
       "4  [Action, Adventure, Thriller]  Mission: Impossible - Ghost Protocol   \n",
       "5        [Action, Comedy, Crime]                        21 Jump Street   \n",
       "7       [Comedy, Drama, Romance]                    Sex and the City 2   \n",
       "\n",
       "    studio  ...  Drama  Sport  Horror  Music  Thriller  History  Action  \\\n",
       "2     Sony  ...    1.0    1.0     0.0    0.0       0.0      0.0     0.0   \n",
       "3       WB  ...    1.0    0.0     0.0    0.0       0.0      0.0     0.0   \n",
       "4     Par.  ...    0.0    0.0     0.0    0.0       1.0      0.0     1.0   \n",
       "5     Sony  ...    0.0    0.0     0.0    0.0       0.0      0.0     1.0   \n",
       "7  WB (NL)  ...    1.0    0.0     0.0    0.0       0.0      0.0     0.0   \n",
       "\n",
       "   Fantasy  War  Musical  \n",
       "2      0.0  0.0      0.0  \n",
       "3      1.0  0.0      0.0  \n",
       "4      0.0  0.0      0.0  \n",
       "5      0.0  0.0      0.0  \n",
       "7      0.0  0.0      0.0  \n",
       "\n",
       "[5 rows x 34 columns]"
      ]
     },
     "execution_count": 30,
     "metadata": {},
     "output_type": "execute_result"
    }
   ],
   "source": [
    "# Iterate through the genre column and index the genre rows. \n",
    "for index, row in ratings_gross.iterrows():\n",
    "    # If the value in genres\n",
    "    if row['genres']:\n",
    "        # matches a genre column\n",
    "        for genre in row['genres']:\n",
    "            # change that value to 1.\n",
    "            ratings_gross.loc[index, genre] = 1\n",
    "# Lets check our changes.\n",
    "ratings_gross.head()"
   ]
  },
  {
   "cell_type": "code",
   "execution_count": 31,
   "metadata": {
    "scrolled": false
   },
   "outputs": [
    {
     "data": {
      "text/plain": [
       "movie_id           tt1210166tt1212419tt1229238tt1232829tt1261945t...\n",
       "averagerating                                                 4822.3\n",
       "numvotes                                                   133721272\n",
       "primary_title      MoneyballHereafterMission: Impossible - Ghost ...\n",
       "original_title     MoneyballHereafterMission: Impossible - Ghost ...\n",
       "start_year                                                   1482127\n",
       "runtime_minutes                                                80986\n",
       "title              MoneyballHereafterMission: Impossible - Ghost ...\n",
       "studio             SonyWBPar.SonyWB (NL)WB (NL)SonyPar.TriSFoxFox...\n",
       "domestic_gross                                           7.41592e+10\n",
       "foreign_gross                                            1.08034e+11\n",
       "year                                                         1482193\n",
       "Animation                                                         82\n",
       "Comedy                                                           296\n",
       "Family                                                            55\n",
       "Mystery                                                           58\n",
       "Biography                                                         53\n",
       "Romance                                                           81\n",
       "Crime                                                             92\n",
       "Western                                                            5\n",
       "Adventure                                                        253\n",
       "Sci-Fi                                                            77\n",
       "Documentary                                                       13\n",
       "Drama                                                            284\n",
       "Sport                                                             14\n",
       "Horror                                                            70\n",
       "Music                                                             18\n",
       "Thriller                                                         121\n",
       "History                                                           18\n",
       "Action                                                           262\n",
       "Fantasy                                                           71\n",
       "War                                                                1\n",
       "Musical                                                            4\n",
       "dtype: object"
      ]
     },
     "execution_count": 31,
     "metadata": {},
     "output_type": "execute_result"
    }
   ],
   "source": [
    "ratings_gross.sum() # Now we have the total number of times each specific genre is mentioned"
   ]
  },
  {
   "cell_type": "code",
   "execution_count": 32,
   "metadata": {
    "scrolled": false
   },
   "outputs": [],
   "source": [
    "# Lets make a list of all the genres. First make a list of all the columns of the dataframe\n",
    "cols = list(ratings_gross.columns)"
   ]
  },
  {
   "cell_type": "code",
   "execution_count": 33,
   "metadata": {
    "scrolled": false
   },
   "outputs": [
    {
     "data": {
      "text/plain": [
       "['Animation',\n",
       " 'Comedy',\n",
       " 'Family',\n",
       " 'Mystery',\n",
       " 'Biography',\n",
       " 'Romance',\n",
       " 'Crime',\n",
       " 'Western',\n",
       " 'Adventure',\n",
       " 'Sci-Fi',\n",
       " 'Documentary',\n",
       " 'Drama',\n",
       " 'Sport',\n",
       " 'Horror',\n",
       " 'Music',\n",
       " 'Thriller',\n",
       " 'History',\n",
       " 'Action',\n",
       " 'Fantasy',\n",
       " 'War',\n",
       " 'Musical']"
      ]
     },
     "execution_count": 33,
     "metadata": {},
     "output_type": "execute_result"
    }
   ],
   "source": [
    "# We can tell that our genres start at the 12th column, which is index 13\n",
    "genre_cols = cols[13:]\n",
    "genre_cols"
   ]
  },
  {
   "cell_type": "markdown",
   "metadata": {},
   "source": [
    "Now we are going to make a dictionary with the genres as the key and the number of times each genre appears as the value."
   ]
  },
  {
   "cell_type": "code",
   "execution_count": 34,
   "metadata": {
    "scrolled": false
   },
   "outputs": [],
   "source": [
    "# Create a new dictionary\n",
    "genre_count = {}\n",
    "# Iterate through the columns associated with genres, setting the name of the\n",
    "# column as the keys in the dictionary.\n",
    "for col in genre_cols:\n",
    "    # Get the total of all the genre counts where the value equaled 1,\n",
    "    # which we saw previously above\n",
    "    count = np.sum(ratings_gross[col] == 1).sum()\n",
    "    # Set the values of the dictionary equal to the total of the counts\n",
    "    genre_count[col] = count"
   ]
  },
  {
   "cell_type": "markdown",
   "metadata": {},
   "source": [
    "To improve the look of the bar graph, we will sort the dictionary based on the value using the below code."
   ]
  },
  {
   "cell_type": "code",
   "execution_count": 35,
   "metadata": {},
   "outputs": [],
   "source": [
    "# Sort dictionary based on values\n",
    "# https://www.tutorialsteacher.com/articles/sort-dict-by-value-in-python\n",
    "marklist=sorted((value, key) for (key,value) in genre_count.items())\n",
    "sortdict=dict([(k,v) for v,k in marklist])"
   ]
  },
  {
   "cell_type": "code",
   "execution_count": 36,
   "metadata": {
    "scrolled": false
   },
   "outputs": [],
   "source": [
    "# Create a list of the dictionary keys\n",
    "keys = list(sortdict.keys())\n",
    "# Create a list of the dictionary values\n",
    "values = list(sortdict.values())"
   ]
  },
  {
   "cell_type": "code",
   "execution_count": 37,
   "metadata": {},
   "outputs": [],
   "source": [
    "sns.set_theme(style='darkgrid')"
   ]
  },
  {
   "cell_type": "code",
   "execution_count": 38,
   "metadata": {
    "scrolled": false
   },
   "outputs": [
    {
     "data": {
      "image/png": "[encoded data removed]",
      "text/plain": [
       "<Figure size 1008x576 with 1 Axes>"
      ]
     },
     "metadata": {},
     "output_type": "display_data"
    }
   ],
   "source": [
    "fig, ax = plt.subplots(figsize=(14,8))\n",
    "\n",
    "sns.barplot(x=values, y=keys, palette='tab10')\n",
    "ax.set_title('Top Grossing Movies ($25M+) by Genre', fontsize=20)\n",
    "ax.set_ylabel('Genres', fontsize=16)\n",
    "ax.set_xlabel('Count of Genres', fontsize=16)\n",
    "\n",
    "plt.savefig('Images/Top_Gross_Movies_By_Genre.png');"
   ]
  },
  {
   "cell_type": "markdown",
   "metadata": {},
   "source": [
    "## Recommendation #1\n",
    "* **Microsoft Studios should aim to produce movies that are in the Comedy, Drama, Action, or Adventure genres.**"
   ]
  },
  {
   "cell_type": "markdown",
   "metadata": {},
   "source": [
    "## Movie Length vs. Domestic Gross\n",
    "\n",
    "For the next analysis, we want to see if how long a movie runs for affects the domestic gross at the box office."
   ]
  },
  {
   "cell_type": "code",
   "execution_count": 39,
   "metadata": {
    "scrolled": true
   },
   "outputs": [],
   "source": [
    "# Create a new column for the average review\n",
    "ratings_gross_copy['Average Review'] = round(ratings_gross_copy['averagerating']) "
   ]
  },
  {
   "cell_type": "code",
   "execution_count": 40,
   "metadata": {
    "scrolled": true
   },
   "outputs": [
    {
     "data": {
      "text/html": [
       "<div>\n",
       "<style scoped>\n",
       "    .dataframe tbody tr th:only-of-type {\n",
       "        vertical-align: middle;\n",
       "    }\n",
       "\n",
       "    .dataframe tbody tr th {\n",
       "        vertical-align: top;\n",
       "    }\n",
       "\n",
       "    .dataframe thead th {\n",
       "        text-align: right;\n",
       "    }\n",
       "</style>\n",
       "<table border=\"1\" class=\"dataframe\">\n",
       "  <thead>\n",
       "    <tr style=\"text-align: right;\">\n",
       "      <th></th>\n",
       "      <th>movie_id</th>\n",
       "      <th>averagerating</th>\n",
       "      <th>numvotes</th>\n",
       "      <th>primary_title</th>\n",
       "      <th>original_title</th>\n",
       "      <th>start_year</th>\n",
       "      <th>runtime_minutes</th>\n",
       "      <th>genres</th>\n",
       "      <th>title</th>\n",
       "      <th>studio</th>\n",
       "      <th>domestic_gross</th>\n",
       "      <th>foreign_gross</th>\n",
       "      <th>year</th>\n",
       "      <th>Average Review</th>\n",
       "    </tr>\n",
       "  </thead>\n",
       "  <tbody>\n",
       "    <tr>\n",
       "      <th>0</th>\n",
       "      <td>tt1043726</td>\n",
       "      <td>4.2</td>\n",
       "      <td>50352</td>\n",
       "      <td>The Legend of Hercules</td>\n",
       "      <td>The Legend of Hercules</td>\n",
       "      <td>2014</td>\n",
       "      <td>99.0</td>\n",
       "      <td>Action,Adventure,Fantasy</td>\n",
       "      <td>The Legend of Hercules</td>\n",
       "      <td>LG/S</td>\n",
       "      <td>18800000.0</td>\n",
       "      <td>42400000.0</td>\n",
       "      <td>2014</td>\n",
       "      <td>4.0</td>\n",
       "    </tr>\n",
       "    <tr>\n",
       "      <th>1</th>\n",
       "      <td>tt1171222</td>\n",
       "      <td>5.1</td>\n",
       "      <td>8296</td>\n",
       "      <td>Baggage Claim</td>\n",
       "      <td>Baggage Claim</td>\n",
       "      <td>2013</td>\n",
       "      <td>96.0</td>\n",
       "      <td>Comedy</td>\n",
       "      <td>Baggage Claim</td>\n",
       "      <td>FoxS</td>\n",
       "      <td>21600000.0</td>\n",
       "      <td>887000.0</td>\n",
       "      <td>2013</td>\n",
       "      <td>5.0</td>\n",
       "    </tr>\n",
       "    <tr>\n",
       "      <th>2</th>\n",
       "      <td>tt1210166</td>\n",
       "      <td>7.6</td>\n",
       "      <td>326657</td>\n",
       "      <td>Moneyball</td>\n",
       "      <td>Moneyball</td>\n",
       "      <td>2011</td>\n",
       "      <td>133.0</td>\n",
       "      <td>Biography,Drama,Sport</td>\n",
       "      <td>Moneyball</td>\n",
       "      <td>Sony</td>\n",
       "      <td>75600000.0</td>\n",
       "      <td>34600000.0</td>\n",
       "      <td>2011</td>\n",
       "      <td>8.0</td>\n",
       "    </tr>\n",
       "    <tr>\n",
       "      <th>3</th>\n",
       "      <td>tt1212419</td>\n",
       "      <td>6.5</td>\n",
       "      <td>87288</td>\n",
       "      <td>Hereafter</td>\n",
       "      <td>Hereafter</td>\n",
       "      <td>2010</td>\n",
       "      <td>129.0</td>\n",
       "      <td>Drama,Fantasy,Romance</td>\n",
       "      <td>Hereafter</td>\n",
       "      <td>WB</td>\n",
       "      <td>32700000.0</td>\n",
       "      <td>72500000.0</td>\n",
       "      <td>2010</td>\n",
       "      <td>6.0</td>\n",
       "    </tr>\n",
       "    <tr>\n",
       "      <th>4</th>\n",
       "      <td>tt1229238</td>\n",
       "      <td>7.4</td>\n",
       "      <td>428142</td>\n",
       "      <td>Mission: Impossible - Ghost Protocol</td>\n",
       "      <td>Mission: Impossible - Ghost Protocol</td>\n",
       "      <td>2011</td>\n",
       "      <td>132.0</td>\n",
       "      <td>Action,Adventure,Thriller</td>\n",
       "      <td>Mission: Impossible - Ghost Protocol</td>\n",
       "      <td>Par.</td>\n",
       "      <td>209400000.0</td>\n",
       "      <td>485300000.0</td>\n",
       "      <td>2011</td>\n",
       "      <td>7.0</td>\n",
       "    </tr>\n",
       "  </tbody>\n",
       "</table>\n",
       "</div>"
      ],
      "text/plain": [
       "    movie_id  averagerating  numvotes                         primary_title  \\\n",
       "0  tt1043726            4.2     50352                The Legend of Hercules   \n",
       "1  tt1171222            5.1      8296                         Baggage Claim   \n",
       "2  tt1210166            7.6    326657                             Moneyball   \n",
       "3  tt1212419            6.5     87288                             Hereafter   \n",
       "4  tt1229238            7.4    428142  Mission: Impossible - Ghost Protocol   \n",
       "\n",
       "                         original_title  start_year  runtime_minutes  \\\n",
       "0                The Legend of Hercules        2014             99.0   \n",
       "1                         Baggage Claim        2013             96.0   \n",
       "2                             Moneyball        2011            133.0   \n",
       "3                             Hereafter        2010            129.0   \n",
       "4  Mission: Impossible - Ghost Protocol        2011            132.0   \n",
       "\n",
       "                      genres                                 title studio  \\\n",
       "0   Action,Adventure,Fantasy                The Legend of Hercules   LG/S   \n",
       "1                     Comedy                         Baggage Claim   FoxS   \n",
       "2      Biography,Drama,Sport                             Moneyball   Sony   \n",
       "3      Drama,Fantasy,Romance                             Hereafter     WB   \n",
       "4  Action,Adventure,Thriller  Mission: Impossible - Ghost Protocol   Par.   \n",
       "\n",
       "   domestic_gross  foreign_gross  year  Average Review  \n",
       "0      18800000.0     42400000.0  2014             4.0  \n",
       "1      21600000.0       887000.0  2013             5.0  \n",
       "2      75600000.0     34600000.0  2011             8.0  \n",
       "3      32700000.0     72500000.0  2010             6.0  \n",
       "4     209400000.0    485300000.0  2011             7.0  "
      ]
     },
     "execution_count": 40,
     "metadata": {},
     "output_type": "execute_result"
    }
   ],
   "source": [
    "# Confirm that it was added to our dataframe\n",
    "ratings_gross_copy.head() "
   ]
  },
  {
   "cell_type": "code",
   "execution_count": 41,
   "metadata": {
    "scrolled": false
   },
   "outputs": [
    {
     "data": {
      "image/png": "[encoded data removed]",
      "text/plain": [
       "<Figure size 1080x648 with 1 Axes>"
      ]
     },
     "metadata": {},
     "output_type": "display_data"
    }
   ],
   "source": [
    "fig, ax = plt.subplots(figsize=(15,9))\n",
    "\n",
    "# Plot our scatter plot\n",
    "sns.scatterplot(data=ratings_gross_copy, x='runtime_minutes', y='domestic_gross', hue = 'Average Review', \n",
    "                palette='nipy_spectral_r', size='Average Review', alpha=0.6)\n",
    "\n",
    "# Set title and axises\n",
    "ax.set_title('Movie Length vs. Domestic Gross', fontsize = 20)\n",
    "ax.set_xlabel('Movie Runtime in Minutes', fontsize=16)\n",
    "ax.set_ylabel('Domestic Gross in Dollars', fontsize=16)\n",
    "ax.set_xlim(50, 195)\n",
    "yticks = np.linspace(0, 700000000, num=8)\n",
    "ax.set_yticks(yticks)\n",
    "ax.set_yticklabels(['$0', '$100M', '$200M', '$300M', '$400M', '$500M', '$600M', '$700M'])\n",
    "\n",
    "plt.savefig('Images/Movie_Length_v_Dom_Gross.png');"
   ]
  },
  {
   "cell_type": "markdown",
   "metadata": {},
   "source": [
    "It does appear that the above chart is slighly left-skewing. The movies that fall between 100 and 120 minutes appear to have an uptick in the domestic gross compared to the movies that fall between 80 and 100 minutes of runtime (same with 120 to 140 compared to 100 to 120, and 140 to 160 compared to 120 to 140). This appears to increase up until movies get longer than 160 minutes at which point the domestic gross falls off. However, this data is not concrete enough so let's take a look at this further. \n",
    "\n",
    "The below code helps bin the domestic gross values based on the movie runtimes."
   ]
  },
  {
   "cell_type": "code",
   "execution_count": 42,
   "metadata": {},
   "outputs": [],
   "source": [
    "# https://www.reddit.com/r/learnpython/comments/73z4e2/pandas_groupby_or_cut_dataframe_to_bins/\n",
    "# Set my bins that I want to cut my runtime_minutes into\n",
    "bins = pd.cut(ratings_gross_copy['runtime_minutes'], [0, 80, 90, 100, 110, 120, 130, 140, 150, 160, 170, 180, 190])"
   ]
  },
  {
   "cell_type": "code",
   "execution_count": 43,
   "metadata": {},
   "outputs": [],
   "source": [
    "# Group my runtime_minutes and see what the domestic_gross count and mean is\n",
    "avg_gross_min = ratings_gross_copy.groupby(bins)['domestic_gross'].agg(['count', 'mean'])"
   ]
  },
  {
   "cell_type": "code",
   "execution_count": 44,
   "metadata": {
    "scrolled": false
   },
   "outputs": [],
   "source": [
    "# Reset the index\n",
    "avg_gross_min = avg_gross_min.reset_index()"
   ]
  },
  {
   "cell_type": "code",
   "execution_count": 45,
   "metadata": {},
   "outputs": [
    {
     "data": {
      "text/html": [
       "<div>\n",
       "<style scoped>\n",
       "    .dataframe tbody tr th:only-of-type {\n",
       "        vertical-align: middle;\n",
       "    }\n",
       "\n",
       "    .dataframe tbody tr th {\n",
       "        vertical-align: top;\n",
       "    }\n",
       "\n",
       "    .dataframe thead th {\n",
       "        text-align: right;\n",
       "    }\n",
       "</style>\n",
       "<table border=\"1\" class=\"dataframe\">\n",
       "  <thead>\n",
       "    <tr style=\"text-align: right;\">\n",
       "      <th></th>\n",
       "      <th>runtime_minutes</th>\n",
       "      <th>count</th>\n",
       "      <th>mean</th>\n",
       "    </tr>\n",
       "  </thead>\n",
       "  <tbody>\n",
       "    <tr>\n",
       "      <th>0</th>\n",
       "      <td>(0, 80]</td>\n",
       "      <td>79</td>\n",
       "      <td>1.831526e+07</td>\n",
       "    </tr>\n",
       "    <tr>\n",
       "      <th>1</th>\n",
       "      <td>(80, 90]</td>\n",
       "      <td>310</td>\n",
       "      <td>1.655507e+07</td>\n",
       "    </tr>\n",
       "    <tr>\n",
       "      <th>2</th>\n",
       "      <td>(90, 100]</td>\n",
       "      <td>603</td>\n",
       "      <td>2.401632e+07</td>\n",
       "    </tr>\n",
       "    <tr>\n",
       "      <th>3</th>\n",
       "      <td>(100, 110]</td>\n",
       "      <td>573</td>\n",
       "      <td>2.611330e+07</td>\n",
       "    </tr>\n",
       "    <tr>\n",
       "      <th>4</th>\n",
       "      <td>(110, 120]</td>\n",
       "      <td>428</td>\n",
       "      <td>3.094591e+07</td>\n",
       "    </tr>\n",
       "    <tr>\n",
       "      <th>5</th>\n",
       "      <td>(120, 130]</td>\n",
       "      <td>246</td>\n",
       "      <td>4.238161e+07</td>\n",
       "    </tr>\n",
       "    <tr>\n",
       "      <th>6</th>\n",
       "      <td>(130, 140]</td>\n",
       "      <td>162</td>\n",
       "      <td>5.776029e+07</td>\n",
       "    </tr>\n",
       "    <tr>\n",
       "      <th>7</th>\n",
       "      <td>(140, 150]</td>\n",
       "      <td>81</td>\n",
       "      <td>8.061147e+07</td>\n",
       "    </tr>\n",
       "    <tr>\n",
       "      <th>8</th>\n",
       "      <td>(150, 160]</td>\n",
       "      <td>46</td>\n",
       "      <td>4.024576e+07</td>\n",
       "    </tr>\n",
       "    <tr>\n",
       "      <th>9</th>\n",
       "      <td>(160, 170]</td>\n",
       "      <td>23</td>\n",
       "      <td>8.046187e+07</td>\n",
       "    </tr>\n",
       "    <tr>\n",
       "      <th>10</th>\n",
       "      <td>(170, 180]</td>\n",
       "      <td>7</td>\n",
       "      <td>2.275757e+07</td>\n",
       "    </tr>\n",
       "    <tr>\n",
       "      <th>11</th>\n",
       "      <td>(180, 190]</td>\n",
       "      <td>3</td>\n",
       "      <td>1.566667e+06</td>\n",
       "    </tr>\n",
       "  </tbody>\n",
       "</table>\n",
       "</div>"
      ],
      "text/plain": [
       "   runtime_minutes  count          mean\n",
       "0          (0, 80]     79  1.831526e+07\n",
       "1         (80, 90]    310  1.655507e+07\n",
       "2        (90, 100]    603  2.401632e+07\n",
       "3       (100, 110]    573  2.611330e+07\n",
       "4       (110, 120]    428  3.094591e+07\n",
       "5       (120, 130]    246  4.238161e+07\n",
       "6       (130, 140]    162  5.776029e+07\n",
       "7       (140, 150]     81  8.061147e+07\n",
       "8       (150, 160]     46  4.024576e+07\n",
       "9       (160, 170]     23  8.046187e+07\n",
       "10      (170, 180]      7  2.275757e+07\n",
       "11      (180, 190]      3  1.566667e+06"
      ]
     },
     "execution_count": 45,
     "metadata": {},
     "output_type": "execute_result"
    }
   ],
   "source": [
    "# Check to make sure the info looks correct\n",
    "avg_gross_min"
   ]
  },
  {
   "cell_type": "markdown",
   "metadata": {},
   "source": [
    "Now, we can look to plot the average domestic gross based on 10 minute intervals of runtime."
   ]
  },
  {
   "cell_type": "code",
   "execution_count": 46,
   "metadata": {},
   "outputs": [
    {
     "data": {
      "image/png": "[encoded data removed]",
      "text/plain": [
       "<Figure size 1008x576 with 1 Axes>"
      ]
     },
     "metadata": {},
     "output_type": "display_data"
    }
   ],
   "source": [
    "fig, ax = plt.subplots(figsize=(14,8))\n",
    "\n",
    "# http://stackoverflow.com/a/6266510/1628638\n",
    "pal = sns.color_palette(\"summer\", len(avg_gross_min))\n",
    "rank = avg_gross_min['mean'].argsort().argsort()   \n",
    "       \n",
    "# https://stackoverflow.com/questions/36271302/changing-color-scale-in-seaborn-bar-plot\n",
    "sns.barplot(x = avg_gross_min['runtime_minutes'], y = avg_gross_min['mean'], \n",
    "            palette=np.array(pal[::-1])[rank])\n",
    "\n",
    "ax.set_title('Average Domestic Gross Based on Runtime', fontsize = 20)\n",
    "ax.set_xlabel('Movie Runtime in Minutes', fontsize=16)\n",
    "ax.set_ylabel('Average Domestic Gross in Dollars', fontsize=16)\n",
    "yticks = np.linspace(0, 80000000, num=9)\n",
    "ax.set_yticks(yticks)\n",
    "ax.set_yticklabels(['$0', '$10M', '$20M', '$30M', '$40M', '$50M', '$60M', '$70M', '$80M'])\n",
    "xticks = np.linspace(0, 11, num=12)\n",
    "ax.set_xticks(xticks)\n",
    "ax.set_xticklabels(['Less Than 80', '80 to 90', '90 to 100', '100 to 110', '110 to 120', '120 to 130', '130 to 140',\n",
    "                   '140 to 150', '150 to 160', '160 to 170', '170 to 180', 'More than 180'], rotation=15)\n",
    "\n",
    "plt.savefig('Images/Avg_Dom_Gross_By_Runtime.png');"
   ]
  },
  {
   "cell_type": "markdown",
   "metadata": {},
   "source": [
    "## Recommendation #2\n",
    "* **Microsoft Studios should aim to produce movies that are 130 to 170 minutes long.**"
   ]
  },
  {
   "cell_type": "markdown",
   "metadata": {},
   "source": [
    "## When Should A Movie Be Released?\n",
    "The final part of our analysis is going to take a look at the average domestic gross for each movie based on what month was released. To do this, we need to bring in another dataset, this time from The Movie Database as that dataset includes the release date."
   ]
  },
  {
   "cell_type": "code",
   "execution_count": 47,
   "metadata": {
    "scrolled": false
   },
   "outputs": [],
   "source": [
    "tmdb = pd.read_csv('zippedData/tmdb.movies.csv.gz')"
   ]
  },
  {
   "cell_type": "code",
   "execution_count": 48,
   "metadata": {
    "scrolled": false
   },
   "outputs": [
    {
     "data": {
      "text/html": [
       "<div>\n",
       "<style scoped>\n",
       "    .dataframe tbody tr th:only-of-type {\n",
       "        vertical-align: middle;\n",
       "    }\n",
       "\n",
       "    .dataframe tbody tr th {\n",
       "        vertical-align: top;\n",
       "    }\n",
       "\n",
       "    .dataframe thead th {\n",
       "        text-align: right;\n",
       "    }\n",
       "</style>\n",
       "<table border=\"1\" class=\"dataframe\">\n",
       "  <thead>\n",
       "    <tr style=\"text-align: right;\">\n",
       "      <th></th>\n",
       "      <th>Unnamed: 0</th>\n",
       "      <th>genre_ids</th>\n",
       "      <th>id</th>\n",
       "      <th>original_language</th>\n",
       "      <th>original_title</th>\n",
       "      <th>popularity</th>\n",
       "      <th>release_date</th>\n",
       "      <th>title</th>\n",
       "      <th>vote_average</th>\n",
       "      <th>vote_count</th>\n",
       "    </tr>\n",
       "  </thead>\n",
       "  <tbody>\n",
       "    <tr>\n",
       "      <th>0</th>\n",
       "      <td>0</td>\n",
       "      <td>[12, 14, 10751]</td>\n",
       "      <td>12444</td>\n",
       "      <td>en</td>\n",
       "      <td>Harry Potter and the Deathly Hallows: Part 1</td>\n",
       "      <td>33.533</td>\n",
       "      <td>2010-11-19</td>\n",
       "      <td>Harry Potter and the Deathly Hallows: Part 1</td>\n",
       "      <td>7.7</td>\n",
       "      <td>10788</td>\n",
       "    </tr>\n",
       "    <tr>\n",
       "      <th>1</th>\n",
       "      <td>1</td>\n",
       "      <td>[14, 12, 16, 10751]</td>\n",
       "      <td>10191</td>\n",
       "      <td>en</td>\n",
       "      <td>How to Train Your Dragon</td>\n",
       "      <td>28.734</td>\n",
       "      <td>2010-03-26</td>\n",
       "      <td>How to Train Your Dragon</td>\n",
       "      <td>7.7</td>\n",
       "      <td>7610</td>\n",
       "    </tr>\n",
       "    <tr>\n",
       "      <th>2</th>\n",
       "      <td>2</td>\n",
       "      <td>[12, 28, 878]</td>\n",
       "      <td>10138</td>\n",
       "      <td>en</td>\n",
       "      <td>Iron Man 2</td>\n",
       "      <td>28.515</td>\n",
       "      <td>2010-05-07</td>\n",
       "      <td>Iron Man 2</td>\n",
       "      <td>6.8</td>\n",
       "      <td>12368</td>\n",
       "    </tr>\n",
       "    <tr>\n",
       "      <th>3</th>\n",
       "      <td>3</td>\n",
       "      <td>[16, 35, 10751]</td>\n",
       "      <td>862</td>\n",
       "      <td>en</td>\n",
       "      <td>Toy Story</td>\n",
       "      <td>28.005</td>\n",
       "      <td>1995-11-22</td>\n",
       "      <td>Toy Story</td>\n",
       "      <td>7.9</td>\n",
       "      <td>10174</td>\n",
       "    </tr>\n",
       "    <tr>\n",
       "      <th>4</th>\n",
       "      <td>4</td>\n",
       "      <td>[28, 878, 12]</td>\n",
       "      <td>27205</td>\n",
       "      <td>en</td>\n",
       "      <td>Inception</td>\n",
       "      <td>27.920</td>\n",
       "      <td>2010-07-16</td>\n",
       "      <td>Inception</td>\n",
       "      <td>8.3</td>\n",
       "      <td>22186</td>\n",
       "    </tr>\n",
       "  </tbody>\n",
       "</table>\n",
       "</div>"
      ],
      "text/plain": [
       "   Unnamed: 0            genre_ids     id original_language  \\\n",
       "0           0      [12, 14, 10751]  12444                en   \n",
       "1           1  [14, 12, 16, 10751]  10191                en   \n",
       "2           2        [12, 28, 878]  10138                en   \n",
       "3           3      [16, 35, 10751]    862                en   \n",
       "4           4        [28, 878, 12]  27205                en   \n",
       "\n",
       "                                 original_title  popularity release_date  \\\n",
       "0  Harry Potter and the Deathly Hallows: Part 1      33.533   2010-11-19   \n",
       "1                      How to Train Your Dragon      28.734   2010-03-26   \n",
       "2                                    Iron Man 2      28.515   2010-05-07   \n",
       "3                                     Toy Story      28.005   1995-11-22   \n",
       "4                                     Inception      27.920   2010-07-16   \n",
       "\n",
       "                                          title  vote_average  vote_count  \n",
       "0  Harry Potter and the Deathly Hallows: Part 1           7.7       10788  \n",
       "1                      How to Train Your Dragon           7.7        7610  \n",
       "2                                    Iron Man 2           6.8       12368  \n",
       "3                                     Toy Story           7.9       10174  \n",
       "4                                     Inception           8.3       22186  "
      ]
     },
     "execution_count": 48,
     "metadata": {},
     "output_type": "execute_result"
    }
   ],
   "source": [
    "tmdb.head() # Check to make sure it worked"
   ]
  },
  {
   "cell_type": "code",
   "execution_count": 49,
   "metadata": {
    "scrolled": false
   },
   "outputs": [
    {
     "name": "stdout",
     "output_type": "stream",
     "text": [
      "<class 'pandas.core.frame.DataFrame'>\n",
      "RangeIndex: 26517 entries, 0 to 26516\n",
      "Data columns (total 10 columns):\n",
      " #   Column             Non-Null Count  Dtype  \n",
      "---  ------             --------------  -----  \n",
      " 0   Unnamed: 0         26517 non-null  int64  \n",
      " 1   genre_ids          26517 non-null  object \n",
      " 2   id                 26517 non-null  int64  \n",
      " 3   original_language  26517 non-null  object \n",
      " 4   original_title     26517 non-null  object \n",
      " 5   popularity         26517 non-null  float64\n",
      " 6   release_date       26517 non-null  object \n",
      " 7   title              26517 non-null  object \n",
      " 8   vote_average       26517 non-null  float64\n",
      " 9   vote_count         26517 non-null  int64  \n",
      "dtypes: float64(2), int64(3), object(5)\n",
      "memory usage: 2.0+ MB\n"
     ]
    }
   ],
   "source": [
    "tmdb.info()"
   ]
  },
  {
   "cell_type": "markdown",
   "metadata": {},
   "source": [
    "Since we want to see if when a movie is released affects the box office performance, we need to merge our original movie_gross dataframe with tmdb dataframe."
   ]
  },
  {
   "cell_type": "code",
   "execution_count": 50,
   "metadata": {
    "scrolled": false
   },
   "outputs": [],
   "source": [
    "tmdb_gross = pd.merge(tmdb, movie_gross, left_on = 'original_title', right_on = 'title')"
   ]
  },
  {
   "cell_type": "code",
   "execution_count": 51,
   "metadata": {
    "scrolled": false
   },
   "outputs": [
    {
     "name": "stdout",
     "output_type": "stream",
     "text": [
      "<class 'pandas.core.frame.DataFrame'>\n",
      "Int64Index: 2266 entries, 0 to 2265\n",
      "Data columns (total 15 columns):\n",
      " #   Column             Non-Null Count  Dtype  \n",
      "---  ------             --------------  -----  \n",
      " 0   Unnamed: 0         2266 non-null   int64  \n",
      " 1   genre_ids          2266 non-null   object \n",
      " 2   id                 2266 non-null   int64  \n",
      " 3   original_language  2266 non-null   object \n",
      " 4   original_title     2266 non-null   object \n",
      " 5   popularity         2266 non-null   float64\n",
      " 6   release_date       2266 non-null   object \n",
      " 7   title_x            2266 non-null   object \n",
      " 8   vote_average       2266 non-null   float64\n",
      " 9   vote_count         2266 non-null   int64  \n",
      " 10  title_y            2266 non-null   object \n",
      " 11  studio             2266 non-null   object \n",
      " 12  domestic_gross     2266 non-null   float64\n",
      " 13  foreign_gross      1526 non-null   float64\n",
      " 14  year               2266 non-null   int64  \n",
      "dtypes: float64(4), int64(4), object(7)\n",
      "memory usage: 283.2+ KB\n"
     ]
    }
   ],
   "source": [
    "tmdb_gross.info() # Check to make sure it worked"
   ]
  },
  {
   "cell_type": "code",
   "execution_count": 52,
   "metadata": {
    "scrolled": false
   },
   "outputs": [
    {
     "data": {
      "text/html": [
       "<div>\n",
       "<style scoped>\n",
       "    .dataframe tbody tr th:only-of-type {\n",
       "        vertical-align: middle;\n",
       "    }\n",
       "\n",
       "    .dataframe tbody tr th {\n",
       "        vertical-align: top;\n",
       "    }\n",
       "\n",
       "    .dataframe thead th {\n",
       "        text-align: right;\n",
       "    }\n",
       "</style>\n",
       "<table border=\"1\" class=\"dataframe\">\n",
       "  <thead>\n",
       "    <tr style=\"text-align: right;\">\n",
       "      <th></th>\n",
       "      <th>Unnamed: 0</th>\n",
       "      <th>genre_ids</th>\n",
       "      <th>id</th>\n",
       "      <th>original_language</th>\n",
       "      <th>original_title</th>\n",
       "      <th>popularity</th>\n",
       "      <th>release_date</th>\n",
       "      <th>title_x</th>\n",
       "      <th>vote_average</th>\n",
       "      <th>vote_count</th>\n",
       "      <th>title_y</th>\n",
       "      <th>studio</th>\n",
       "      <th>domestic_gross</th>\n",
       "      <th>foreign_gross</th>\n",
       "      <th>year</th>\n",
       "    </tr>\n",
       "  </thead>\n",
       "  <tbody>\n",
       "    <tr>\n",
       "      <th>0</th>\n",
       "      <td>1</td>\n",
       "      <td>[14, 12, 16, 10751]</td>\n",
       "      <td>10191</td>\n",
       "      <td>en</td>\n",
       "      <td>How to Train Your Dragon</td>\n",
       "      <td>28.734</td>\n",
       "      <td>2010-03-26</td>\n",
       "      <td>How to Train Your Dragon</td>\n",
       "      <td>7.7</td>\n",
       "      <td>7610</td>\n",
       "      <td>How to Train Your Dragon</td>\n",
       "      <td>P/DW</td>\n",
       "      <td>217600000.0</td>\n",
       "      <td>277300000.0</td>\n",
       "      <td>2010</td>\n",
       "    </tr>\n",
       "    <tr>\n",
       "      <th>1</th>\n",
       "      <td>2</td>\n",
       "      <td>[12, 28, 878]</td>\n",
       "      <td>10138</td>\n",
       "      <td>en</td>\n",
       "      <td>Iron Man 2</td>\n",
       "      <td>28.515</td>\n",
       "      <td>2010-05-07</td>\n",
       "      <td>Iron Man 2</td>\n",
       "      <td>6.8</td>\n",
       "      <td>12368</td>\n",
       "      <td>Iron Man 2</td>\n",
       "      <td>Par.</td>\n",
       "      <td>312400000.0</td>\n",
       "      <td>311500000.0</td>\n",
       "      <td>2010</td>\n",
       "    </tr>\n",
       "    <tr>\n",
       "      <th>2</th>\n",
       "      <td>4</td>\n",
       "      <td>[28, 878, 12]</td>\n",
       "      <td>27205</td>\n",
       "      <td>en</td>\n",
       "      <td>Inception</td>\n",
       "      <td>27.920</td>\n",
       "      <td>2010-07-16</td>\n",
       "      <td>Inception</td>\n",
       "      <td>8.3</td>\n",
       "      <td>22186</td>\n",
       "      <td>Inception</td>\n",
       "      <td>WB</td>\n",
       "      <td>292600000.0</td>\n",
       "      <td>535700000.0</td>\n",
       "      <td>2010</td>\n",
       "    </tr>\n",
       "    <tr>\n",
       "      <th>3</th>\n",
       "      <td>7</td>\n",
       "      <td>[16, 10751, 35]</td>\n",
       "      <td>10193</td>\n",
       "      <td>en</td>\n",
       "      <td>Toy Story 3</td>\n",
       "      <td>24.445</td>\n",
       "      <td>2010-06-17</td>\n",
       "      <td>Toy Story 3</td>\n",
       "      <td>7.7</td>\n",
       "      <td>8340</td>\n",
       "      <td>Toy Story 3</td>\n",
       "      <td>BV</td>\n",
       "      <td>415000000.0</td>\n",
       "      <td>652000000.0</td>\n",
       "      <td>2010</td>\n",
       "    </tr>\n",
       "    <tr>\n",
       "      <th>4</th>\n",
       "      <td>8</td>\n",
       "      <td>[16, 10751, 35]</td>\n",
       "      <td>20352</td>\n",
       "      <td>en</td>\n",
       "      <td>Despicable Me</td>\n",
       "      <td>23.673</td>\n",
       "      <td>2010-07-09</td>\n",
       "      <td>Despicable Me</td>\n",
       "      <td>7.2</td>\n",
       "      <td>10057</td>\n",
       "      <td>Despicable Me</td>\n",
       "      <td>Uni.</td>\n",
       "      <td>251500000.0</td>\n",
       "      <td>291600000.0</td>\n",
       "      <td>2010</td>\n",
       "    </tr>\n",
       "  </tbody>\n",
       "</table>\n",
       "</div>"
      ],
      "text/plain": [
       "   Unnamed: 0            genre_ids     id original_language  \\\n",
       "0           1  [14, 12, 16, 10751]  10191                en   \n",
       "1           2        [12, 28, 878]  10138                en   \n",
       "2           4        [28, 878, 12]  27205                en   \n",
       "3           7      [16, 10751, 35]  10193                en   \n",
       "4           8      [16, 10751, 35]  20352                en   \n",
       "\n",
       "             original_title  popularity release_date  \\\n",
       "0  How to Train Your Dragon      28.734   2010-03-26   \n",
       "1                Iron Man 2      28.515   2010-05-07   \n",
       "2                 Inception      27.920   2010-07-16   \n",
       "3               Toy Story 3      24.445   2010-06-17   \n",
       "4             Despicable Me      23.673   2010-07-09   \n",
       "\n",
       "                    title_x  vote_average  vote_count  \\\n",
       "0  How to Train Your Dragon           7.7        7610   \n",
       "1                Iron Man 2           6.8       12368   \n",
       "2                 Inception           8.3       22186   \n",
       "3               Toy Story 3           7.7        8340   \n",
       "4             Despicable Me           7.2       10057   \n",
       "\n",
       "                    title_y studio  domestic_gross  foreign_gross  year  \n",
       "0  How to Train Your Dragon   P/DW     217600000.0    277300000.0  2010  \n",
       "1                Iron Man 2   Par.     312400000.0    311500000.0  2010  \n",
       "2                 Inception     WB     292600000.0    535700000.0  2010  \n",
       "3               Toy Story 3     BV     415000000.0    652000000.0  2010  \n",
       "4             Despicable Me   Uni.     251500000.0    291600000.0  2010  "
      ]
     },
     "execution_count": 52,
     "metadata": {},
     "output_type": "execute_result"
    }
   ],
   "source": [
    "tmdb_gross.head()"
   ]
  },
  {
   "cell_type": "markdown",
   "metadata": {},
   "source": [
    "## Check, inspect, and remove duplicates"
   ]
  },
  {
   "cell_type": "code",
   "execution_count": 53,
   "metadata": {
    "scrolled": false
   },
   "outputs": [
    {
     "data": {
      "text/plain": [
       "False    1934\n",
       "True      332\n",
       "Name: original_title, dtype: int64"
      ]
     },
     "execution_count": 53,
     "metadata": {},
     "output_type": "execute_result"
    }
   ],
   "source": [
    "tmdb_gross['original_title'].duplicated().value_counts()"
   ]
  },
  {
   "cell_type": "code",
   "execution_count": 54,
   "metadata": {
    "scrolled": false
   },
   "outputs": [
    {
     "data": {
      "text/html": [
       "<div>\n",
       "<style scoped>\n",
       "    .dataframe tbody tr th:only-of-type {\n",
       "        vertical-align: middle;\n",
       "    }\n",
       "\n",
       "    .dataframe tbody tr th {\n",
       "        vertical-align: top;\n",
       "    }\n",
       "\n",
       "    .dataframe thead th {\n",
       "        text-align: right;\n",
       "    }\n",
       "</style>\n",
       "<table border=\"1\" class=\"dataframe\">\n",
       "  <thead>\n",
       "    <tr style=\"text-align: right;\">\n",
       "      <th></th>\n",
       "      <th>Unnamed: 0</th>\n",
       "      <th>genre_ids</th>\n",
       "      <th>id</th>\n",
       "      <th>original_language</th>\n",
       "      <th>original_title</th>\n",
       "      <th>popularity</th>\n",
       "      <th>release_date</th>\n",
       "      <th>title_x</th>\n",
       "      <th>vote_average</th>\n",
       "      <th>vote_count</th>\n",
       "      <th>title_y</th>\n",
       "      <th>studio</th>\n",
       "      <th>domestic_gross</th>\n",
       "      <th>foreign_gross</th>\n",
       "      <th>year</th>\n",
       "    </tr>\n",
       "  </thead>\n",
       "  <tbody>\n",
       "    <tr>\n",
       "      <th>1777</th>\n",
       "      <td>17553</td>\n",
       "      <td>[18]</td>\n",
       "      <td>342737</td>\n",
       "      <td>en</td>\n",
       "      <td>20th Century Women</td>\n",
       "      <td>10.413</td>\n",
       "      <td>2016-12-28</td>\n",
       "      <td>20th Century Women</td>\n",
       "      <td>7.4</td>\n",
       "      <td>504</td>\n",
       "      <td>20th Century Women</td>\n",
       "      <td>A24</td>\n",
       "      <td>5700000.0</td>\n",
       "      <td>NaN</td>\n",
       "      <td>2016</td>\n",
       "    </tr>\n",
       "    <tr>\n",
       "      <th>1778</th>\n",
       "      <td>20839</td>\n",
       "      <td>[18]</td>\n",
       "      <td>342737</td>\n",
       "      <td>en</td>\n",
       "      <td>20th Century Women</td>\n",
       "      <td>10.413</td>\n",
       "      <td>2016-12-28</td>\n",
       "      <td>20th Century Women</td>\n",
       "      <td>7.4</td>\n",
       "      <td>504</td>\n",
       "      <td>20th Century Women</td>\n",
       "      <td>A24</td>\n",
       "      <td>5700000.0</td>\n",
       "      <td>NaN</td>\n",
       "      <td>2016</td>\n",
       "    </tr>\n",
       "    <tr>\n",
       "      <th>1189</th>\n",
       "      <td>17650</td>\n",
       "      <td>[18]</td>\n",
       "      <td>283235</td>\n",
       "      <td>en</td>\n",
       "      <td>99 Homes</td>\n",
       "      <td>8.850</td>\n",
       "      <td>2014-10-09</td>\n",
       "      <td>99 Homes</td>\n",
       "      <td>6.8</td>\n",
       "      <td>393</td>\n",
       "      <td>99 Homes</td>\n",
       "      <td>BG</td>\n",
       "      <td>1400000.0</td>\n",
       "      <td>NaN</td>\n",
       "      <td>2015</td>\n",
       "    </tr>\n",
       "    <tr>\n",
       "      <th>1188</th>\n",
       "      <td>11235</td>\n",
       "      <td>[18]</td>\n",
       "      <td>283235</td>\n",
       "      <td>en</td>\n",
       "      <td>99 Homes</td>\n",
       "      <td>8.850</td>\n",
       "      <td>2014-10-09</td>\n",
       "      <td>99 Homes</td>\n",
       "      <td>6.8</td>\n",
       "      <td>393</td>\n",
       "      <td>99 Homes</td>\n",
       "      <td>BG</td>\n",
       "      <td>1400000.0</td>\n",
       "      <td>NaN</td>\n",
       "      <td>2015</td>\n",
       "    </tr>\n",
       "    <tr>\n",
       "      <th>1972</th>\n",
       "      <td>23944</td>\n",
       "      <td>[35]</td>\n",
       "      <td>431530</td>\n",
       "      <td>en</td>\n",
       "      <td>A Bad Moms Christmas</td>\n",
       "      <td>16.604</td>\n",
       "      <td>2017-11-01</td>\n",
       "      <td>A Bad Moms Christmas</td>\n",
       "      <td>6.3</td>\n",
       "      <td>1044</td>\n",
       "      <td>A Bad Moms Christmas</td>\n",
       "      <td>STX</td>\n",
       "      <td>72100000.0</td>\n",
       "      <td>58400000.0</td>\n",
       "      <td>2017</td>\n",
       "    </tr>\n",
       "    <tr>\n",
       "      <th>...</th>\n",
       "      <td>...</td>\n",
       "      <td>...</td>\n",
       "      <td>...</td>\n",
       "      <td>...</td>\n",
       "      <td>...</td>\n",
       "      <td>...</td>\n",
       "      <td>...</td>\n",
       "      <td>...</td>\n",
       "      <td>...</td>\n",
       "      <td>...</td>\n",
       "      <td>...</td>\n",
       "      <td>...</td>\n",
       "      <td>...</td>\n",
       "      <td>...</td>\n",
       "      <td>...</td>\n",
       "    </tr>\n",
       "    <tr>\n",
       "      <th>1578</th>\n",
       "      <td>17998</td>\n",
       "      <td>[18]</td>\n",
       "      <td>333596</td>\n",
       "      <td>en</td>\n",
       "      <td>Woodlawn</td>\n",
       "      <td>5.575</td>\n",
       "      <td>2015-10-16</td>\n",
       "      <td>Woodlawn</td>\n",
       "      <td>7.0</td>\n",
       "      <td>79</td>\n",
       "      <td>Woodlawn</td>\n",
       "      <td>PFR</td>\n",
       "      <td>14400000.0</td>\n",
       "      <td>NaN</td>\n",
       "      <td>2015</td>\n",
       "    </tr>\n",
       "    <tr>\n",
       "      <th>487</th>\n",
       "      <td>10441</td>\n",
       "      <td>[9648, 878]</td>\n",
       "      <td>349107</td>\n",
       "      <td>en</td>\n",
       "      <td>Wrecked</td>\n",
       "      <td>0.600</td>\n",
       "      <td>2013-04-19</td>\n",
       "      <td>Wrecked</td>\n",
       "      <td>6.0</td>\n",
       "      <td>1</td>\n",
       "      <td>Wrecked</td>\n",
       "      <td>IFC</td>\n",
       "      <td>8000.0</td>\n",
       "      <td>NaN</td>\n",
       "      <td>2011</td>\n",
       "    </tr>\n",
       "    <tr>\n",
       "      <th>486</th>\n",
       "      <td>3019</td>\n",
       "      <td>[9648, 53]</td>\n",
       "      <td>50838</td>\n",
       "      <td>en</td>\n",
       "      <td>Wrecked</td>\n",
       "      <td>4.685</td>\n",
       "      <td>2011-04-01</td>\n",
       "      <td>Wrecked</td>\n",
       "      <td>5.4</td>\n",
       "      <td>156</td>\n",
       "      <td>Wrecked</td>\n",
       "      <td>IFC</td>\n",
       "      <td>8000.0</td>\n",
       "      <td>NaN</td>\n",
       "      <td>2011</td>\n",
       "    </tr>\n",
       "    <tr>\n",
       "      <th>257</th>\n",
       "      <td>2560</td>\n",
       "      <td>[35, 12, 14]</td>\n",
       "      <td>38319</td>\n",
       "      <td>en</td>\n",
       "      <td>Your Highness</td>\n",
       "      <td>12.254</td>\n",
       "      <td>2011-04-08</td>\n",
       "      <td>Your Highness</td>\n",
       "      <td>5.3</td>\n",
       "      <td>735</td>\n",
       "      <td>Your Highness</td>\n",
       "      <td>Uni.</td>\n",
       "      <td>21600000.0</td>\n",
       "      <td>3300000.0</td>\n",
       "      <td>2011</td>\n",
       "    </tr>\n",
       "    <tr>\n",
       "      <th>256</th>\n",
       "      <td>2398</td>\n",
       "      <td>[14, 18, 28, 35, 878]</td>\n",
       "      <td>98957</td>\n",
       "      <td>en</td>\n",
       "      <td>Your Highness</td>\n",
       "      <td>0.600</td>\n",
       "      <td>2010-01-01</td>\n",
       "      <td>Your Highness</td>\n",
       "      <td>3.0</td>\n",
       "      <td>4</td>\n",
       "      <td>Your Highness</td>\n",
       "      <td>Uni.</td>\n",
       "      <td>21600000.0</td>\n",
       "      <td>3300000.0</td>\n",
       "      <td>2011</td>\n",
       "    </tr>\n",
       "  </tbody>\n",
       "</table>\n",
       "<p>624 rows × 15 columns</p>\n",
       "</div>"
      ],
      "text/plain": [
       "      Unnamed: 0              genre_ids      id original_language  \\\n",
       "1777       17553                   [18]  342737                en   \n",
       "1778       20839                   [18]  342737                en   \n",
       "1189       17650                   [18]  283235                en   \n",
       "1188       11235                   [18]  283235                en   \n",
       "1972       23944                   [35]  431530                en   \n",
       "...          ...                    ...     ...               ...   \n",
       "1578       17998                   [18]  333596                en   \n",
       "487        10441            [9648, 878]  349107                en   \n",
       "486         3019             [9648, 53]   50838                en   \n",
       "257         2560           [35, 12, 14]   38319                en   \n",
       "256         2398  [14, 18, 28, 35, 878]   98957                en   \n",
       "\n",
       "            original_title  popularity release_date               title_x  \\\n",
       "1777    20th Century Women      10.413   2016-12-28    20th Century Women   \n",
       "1778    20th Century Women      10.413   2016-12-28    20th Century Women   \n",
       "1189              99 Homes       8.850   2014-10-09              99 Homes   \n",
       "1188              99 Homes       8.850   2014-10-09              99 Homes   \n",
       "1972  A Bad Moms Christmas      16.604   2017-11-01  A Bad Moms Christmas   \n",
       "...                    ...         ...          ...                   ...   \n",
       "1578              Woodlawn       5.575   2015-10-16              Woodlawn   \n",
       "487                Wrecked       0.600   2013-04-19               Wrecked   \n",
       "486                Wrecked       4.685   2011-04-01               Wrecked   \n",
       "257          Your Highness      12.254   2011-04-08         Your Highness   \n",
       "256          Your Highness       0.600   2010-01-01         Your Highness   \n",
       "\n",
       "      vote_average  vote_count               title_y studio  domestic_gross  \\\n",
       "1777           7.4         504    20th Century Women    A24       5700000.0   \n",
       "1778           7.4         504    20th Century Women    A24       5700000.0   \n",
       "1189           6.8         393              99 Homes     BG       1400000.0   \n",
       "1188           6.8         393              99 Homes     BG       1400000.0   \n",
       "1972           6.3        1044  A Bad Moms Christmas    STX      72100000.0   \n",
       "...            ...         ...                   ...    ...             ...   \n",
       "1578           7.0          79              Woodlawn    PFR      14400000.0   \n",
       "487            6.0           1               Wrecked    IFC          8000.0   \n",
       "486            5.4         156               Wrecked    IFC          8000.0   \n",
       "257            5.3         735         Your Highness   Uni.      21600000.0   \n",
       "256            3.0           4         Your Highness   Uni.      21600000.0   \n",
       "\n",
       "      foreign_gross  year  \n",
       "1777            NaN  2016  \n",
       "1778            NaN  2016  \n",
       "1189            NaN  2015  \n",
       "1188            NaN  2015  \n",
       "1972     58400000.0  2017  \n",
       "...             ...   ...  \n",
       "1578            NaN  2015  \n",
       "487             NaN  2011  \n",
       "486             NaN  2011  \n",
       "257       3300000.0  2011  \n",
       "256       3300000.0  2011  \n",
       "\n",
       "[624 rows x 15 columns]"
      ]
     },
     "execution_count": 54,
     "metadata": {},
     "output_type": "execute_result"
    }
   ],
   "source": [
    "tmdb_gross[tmdb_gross['original_title'].duplicated(keep=False)].sort_values(by='original_title')"
   ]
  },
  {
   "cell_type": "code",
   "execution_count": 55,
   "metadata": {
    "scrolled": false
   },
   "outputs": [
    {
     "data": {
      "text/plain": [
       "False    1934\n",
       "Name: original_title, dtype: int64"
      ]
     },
     "execution_count": 55,
     "metadata": {},
     "output_type": "execute_result"
    }
   ],
   "source": [
    "tmdb_gross = tmdb_gross.drop_duplicates(subset='original_title')\n",
    "tmdb_gross['original_title'].duplicated().value_counts()"
   ]
  },
  {
   "cell_type": "markdown",
   "metadata": {},
   "source": [
    "## Drop unnecessary columns"
   ]
  },
  {
   "cell_type": "code",
   "execution_count": 56,
   "metadata": {
    "scrolled": false
   },
   "outputs": [
    {
     "data": {
      "text/plain": [
       "Index(['Unnamed: 0', 'genre_ids', 'id', 'original_language', 'original_title',\n",
       "       'popularity', 'release_date', 'title_x', 'vote_average', 'vote_count',\n",
       "       'title_y', 'studio', 'domestic_gross', 'foreign_gross', 'year'],\n",
       "      dtype='object')"
      ]
     },
     "execution_count": 56,
     "metadata": {},
     "output_type": "execute_result"
    }
   ],
   "source": [
    "tmdb_gross.columns"
   ]
  },
  {
   "cell_type": "code",
   "execution_count": 57,
   "metadata": {
    "scrolled": false
   },
   "outputs": [],
   "source": [
    "tmdb_gross = tmdb_gross.drop(['Unnamed: 0', 'genre_ids', 'id', 'original_language', 'title_y', 'year', 'studio'], axis = 1)"
   ]
  },
  {
   "cell_type": "code",
   "execution_count": 58,
   "metadata": {
    "scrolled": false
   },
   "outputs": [
    {
     "data": {
      "text/html": [
       "<div>\n",
       "<style scoped>\n",
       "    .dataframe tbody tr th:only-of-type {\n",
       "        vertical-align: middle;\n",
       "    }\n",
       "\n",
       "    .dataframe tbody tr th {\n",
       "        vertical-align: top;\n",
       "    }\n",
       "\n",
       "    .dataframe thead th {\n",
       "        text-align: right;\n",
       "    }\n",
       "</style>\n",
       "<table border=\"1\" class=\"dataframe\">\n",
       "  <thead>\n",
       "    <tr style=\"text-align: right;\">\n",
       "      <th></th>\n",
       "      <th>original_title</th>\n",
       "      <th>popularity</th>\n",
       "      <th>release_date</th>\n",
       "      <th>title_x</th>\n",
       "      <th>vote_average</th>\n",
       "      <th>vote_count</th>\n",
       "      <th>domestic_gross</th>\n",
       "      <th>foreign_gross</th>\n",
       "    </tr>\n",
       "  </thead>\n",
       "  <tbody>\n",
       "    <tr>\n",
       "      <th>0</th>\n",
       "      <td>How to Train Your Dragon</td>\n",
       "      <td>28.734</td>\n",
       "      <td>2010-03-26</td>\n",
       "      <td>How to Train Your Dragon</td>\n",
       "      <td>7.7</td>\n",
       "      <td>7610</td>\n",
       "      <td>217600000.0</td>\n",
       "      <td>277300000.0</td>\n",
       "    </tr>\n",
       "    <tr>\n",
       "      <th>1</th>\n",
       "      <td>Iron Man 2</td>\n",
       "      <td>28.515</td>\n",
       "      <td>2010-05-07</td>\n",
       "      <td>Iron Man 2</td>\n",
       "      <td>6.8</td>\n",
       "      <td>12368</td>\n",
       "      <td>312400000.0</td>\n",
       "      <td>311500000.0</td>\n",
       "    </tr>\n",
       "    <tr>\n",
       "      <th>2</th>\n",
       "      <td>Inception</td>\n",
       "      <td>27.920</td>\n",
       "      <td>2010-07-16</td>\n",
       "      <td>Inception</td>\n",
       "      <td>8.3</td>\n",
       "      <td>22186</td>\n",
       "      <td>292600000.0</td>\n",
       "      <td>535700000.0</td>\n",
       "    </tr>\n",
       "    <tr>\n",
       "      <th>3</th>\n",
       "      <td>Toy Story 3</td>\n",
       "      <td>24.445</td>\n",
       "      <td>2010-06-17</td>\n",
       "      <td>Toy Story 3</td>\n",
       "      <td>7.7</td>\n",
       "      <td>8340</td>\n",
       "      <td>415000000.0</td>\n",
       "      <td>652000000.0</td>\n",
       "    </tr>\n",
       "    <tr>\n",
       "      <th>4</th>\n",
       "      <td>Despicable Me</td>\n",
       "      <td>23.673</td>\n",
       "      <td>2010-07-09</td>\n",
       "      <td>Despicable Me</td>\n",
       "      <td>7.2</td>\n",
       "      <td>10057</td>\n",
       "      <td>251500000.0</td>\n",
       "      <td>291600000.0</td>\n",
       "    </tr>\n",
       "    <tr>\n",
       "      <th>...</th>\n",
       "      <td>...</td>\n",
       "      <td>...</td>\n",
       "      <td>...</td>\n",
       "      <td>...</td>\n",
       "      <td>...</td>\n",
       "      <td>...</td>\n",
       "      <td>...</td>\n",
       "      <td>...</td>\n",
       "    </tr>\n",
       "    <tr>\n",
       "      <th>2261</th>\n",
       "      <td>Nico, 1988</td>\n",
       "      <td>3.789</td>\n",
       "      <td>2018-07-04</td>\n",
       "      <td>Nico, 1988</td>\n",
       "      <td>7.3</td>\n",
       "      <td>40</td>\n",
       "      <td>73300.0</td>\n",
       "      <td>NaN</td>\n",
       "    </tr>\n",
       "    <tr>\n",
       "      <th>2262</th>\n",
       "      <td>Maria by Callas</td>\n",
       "      <td>3.184</td>\n",
       "      <td>2018-11-02</td>\n",
       "      <td>Maria by Callas</td>\n",
       "      <td>7.6</td>\n",
       "      <td>11</td>\n",
       "      <td>1300000.0</td>\n",
       "      <td>NaN</td>\n",
       "    </tr>\n",
       "    <tr>\n",
       "      <th>2263</th>\n",
       "      <td>Elliot: The Littlest Reindeer</td>\n",
       "      <td>2.903</td>\n",
       "      <td>2018-11-30</td>\n",
       "      <td>Elliot: The Littlest Reindeer</td>\n",
       "      <td>3.4</td>\n",
       "      <td>7</td>\n",
       "      <td>24300.0</td>\n",
       "      <td>NaN</td>\n",
       "    </tr>\n",
       "    <tr>\n",
       "      <th>2264</th>\n",
       "      <td>Bilal: A New Breed of Hero</td>\n",
       "      <td>2.707</td>\n",
       "      <td>2018-02-02</td>\n",
       "      <td>Bilal: A New Breed of Hero</td>\n",
       "      <td>6.8</td>\n",
       "      <td>54</td>\n",
       "      <td>491000.0</td>\n",
       "      <td>1700000.0</td>\n",
       "    </tr>\n",
       "    <tr>\n",
       "      <th>2265</th>\n",
       "      <td>La Boda de Valentina</td>\n",
       "      <td>2.550</td>\n",
       "      <td>2018-02-09</td>\n",
       "      <td>La Boda de Valentina</td>\n",
       "      <td>6.3</td>\n",
       "      <td>7</td>\n",
       "      <td>2800000.0</td>\n",
       "      <td>NaN</td>\n",
       "    </tr>\n",
       "  </tbody>\n",
       "</table>\n",
       "<p>1934 rows × 8 columns</p>\n",
       "</div>"
      ],
      "text/plain": [
       "                     original_title  popularity release_date  \\\n",
       "0          How to Train Your Dragon      28.734   2010-03-26   \n",
       "1                        Iron Man 2      28.515   2010-05-07   \n",
       "2                         Inception      27.920   2010-07-16   \n",
       "3                       Toy Story 3      24.445   2010-06-17   \n",
       "4                     Despicable Me      23.673   2010-07-09   \n",
       "...                             ...         ...          ...   \n",
       "2261                     Nico, 1988       3.789   2018-07-04   \n",
       "2262                Maria by Callas       3.184   2018-11-02   \n",
       "2263  Elliot: The Littlest Reindeer       2.903   2018-11-30   \n",
       "2264     Bilal: A New Breed of Hero       2.707   2018-02-02   \n",
       "2265           La Boda de Valentina       2.550   2018-02-09   \n",
       "\n",
       "                            title_x  vote_average  vote_count  domestic_gross  \\\n",
       "0          How to Train Your Dragon           7.7        7610     217600000.0   \n",
       "1                        Iron Man 2           6.8       12368     312400000.0   \n",
       "2                         Inception           8.3       22186     292600000.0   \n",
       "3                       Toy Story 3           7.7        8340     415000000.0   \n",
       "4                     Despicable Me           7.2       10057     251500000.0   \n",
       "...                             ...           ...         ...             ...   \n",
       "2261                     Nico, 1988           7.3          40         73300.0   \n",
       "2262                Maria by Callas           7.6          11       1300000.0   \n",
       "2263  Elliot: The Littlest Reindeer           3.4           7         24300.0   \n",
       "2264     Bilal: A New Breed of Hero           6.8          54        491000.0   \n",
       "2265           La Boda de Valentina           6.3           7       2800000.0   \n",
       "\n",
       "      foreign_gross  \n",
       "0       277300000.0  \n",
       "1       311500000.0  \n",
       "2       535700000.0  \n",
       "3       652000000.0  \n",
       "4       291600000.0  \n",
       "...             ...  \n",
       "2261            NaN  \n",
       "2262            NaN  \n",
       "2263            NaN  \n",
       "2264      1700000.0  \n",
       "2265            NaN  \n",
       "\n",
       "[1934 rows x 8 columns]"
      ]
     },
     "execution_count": 58,
     "metadata": {},
     "output_type": "execute_result"
    }
   ],
   "source": [
    "tmdb_gross # Check that our columns were dropped"
   ]
  },
  {
   "cell_type": "markdown",
   "metadata": {},
   "source": [
    "## Convert release_date to a datetime object"
   ]
  },
  {
   "cell_type": "code",
   "execution_count": 59,
   "metadata": {
    "scrolled": true
   },
   "outputs": [
    {
     "data": {
      "text/plain": [
       "0    2010-03-26\n",
       "1    2010-05-07\n",
       "2    2010-07-16\n",
       "3    2010-06-17\n",
       "4    2010-07-09\n",
       "Name: release_date, dtype: object"
      ]
     },
     "execution_count": 59,
     "metadata": {},
     "output_type": "execute_result"
    }
   ],
   "source": [
    "tmdb_gross['release_date'].head() # Datatype is an object"
   ]
  },
  {
   "cell_type": "markdown",
   "metadata": {},
   "source": [
    "Preview the results to prevent overwriting data if some error occurs."
   ]
  },
  {
   "cell_type": "code",
   "execution_count": 60,
   "metadata": {
    "scrolled": true
   },
   "outputs": [
    {
     "data": {
      "text/plain": [
       "0      2010-03-26\n",
       "1      2010-05-07\n",
       "2      2010-07-16\n",
       "3      2010-06-17\n",
       "4      2010-07-09\n",
       "          ...    \n",
       "2261   2018-07-04\n",
       "2262   2018-11-02\n",
       "2263   2018-11-30\n",
       "2264   2018-02-02\n",
       "2265   2018-02-09\n",
       "Name: release_date, Length: 1934, dtype: datetime64[ns]"
      ]
     },
     "execution_count": 60,
     "metadata": {},
     "output_type": "execute_result"
    }
   ],
   "source": [
    "pd.to_datetime(tmdb_gross['release_date']) # Datatype is now datetime64 which means it worked"
   ]
  },
  {
   "cell_type": "code",
   "execution_count": 61,
   "metadata": {
    "scrolled": false
   },
   "outputs": [],
   "source": [
    "tmdb_gross['release_date'] = pd.to_datetime(tmdb_gross['release_date'])"
   ]
  },
  {
   "cell_type": "code",
   "execution_count": 62,
   "metadata": {
    "scrolled": false
   },
   "outputs": [
    {
     "data": {
      "text/plain": [
       "0   2010-03-26\n",
       "1   2010-05-07\n",
       "2   2010-07-16\n",
       "3   2010-06-17\n",
       "4   2010-07-09\n",
       "Name: release_date, dtype: datetime64[ns]"
      ]
     },
     "execution_count": 62,
     "metadata": {},
     "output_type": "execute_result"
    }
   ],
   "source": [
    "tmdb_gross['release_date'].head() # Confirm our changes occured"
   ]
  },
  {
   "cell_type": "markdown",
   "metadata": {},
   "source": [
    "We want to see what months are the best to release a movie. We will need to go ahead and break out the specific month from our new datetime object."
   ]
  },
  {
   "cell_type": "code",
   "execution_count": 63,
   "metadata": {
    "scrolled": false
   },
   "outputs": [
    {
     "data": {
      "text/plain": [
       "0        3\n",
       "1        5\n",
       "2        7\n",
       "3        6\n",
       "4        7\n",
       "        ..\n",
       "2261     7\n",
       "2262    11\n",
       "2263    11\n",
       "2264     2\n",
       "2265     2\n",
       "Name: release_date, Length: 1934, dtype: int64"
      ]
     },
     "execution_count": 63,
     "metadata": {},
     "output_type": "execute_result"
    }
   ],
   "source": [
    "pd.to_datetime(tmdb_gross['release_date']).dt.month # Preview results"
   ]
  },
  {
   "cell_type": "code",
   "execution_count": 64,
   "metadata": {
    "scrolled": false
   },
   "outputs": [],
   "source": [
    "tmdb_gross['Release Month'] = pd.to_datetime(tmdb_gross['release_date']).dt.month"
   ]
  },
  {
   "cell_type": "code",
   "execution_count": 65,
   "metadata": {
    "scrolled": false
   },
   "outputs": [
    {
     "data": {
      "text/html": [
       "<div>\n",
       "<style scoped>\n",
       "    .dataframe tbody tr th:only-of-type {\n",
       "        vertical-align: middle;\n",
       "    }\n",
       "\n",
       "    .dataframe tbody tr th {\n",
       "        vertical-align: top;\n",
       "    }\n",
       "\n",
       "    .dataframe thead th {\n",
       "        text-align: right;\n",
       "    }\n",
       "</style>\n",
       "<table border=\"1\" class=\"dataframe\">\n",
       "  <thead>\n",
       "    <tr style=\"text-align: right;\">\n",
       "      <th></th>\n",
       "      <th>original_title</th>\n",
       "      <th>popularity</th>\n",
       "      <th>release_date</th>\n",
       "      <th>title_x</th>\n",
       "      <th>vote_average</th>\n",
       "      <th>vote_count</th>\n",
       "      <th>domestic_gross</th>\n",
       "      <th>foreign_gross</th>\n",
       "      <th>Release Month</th>\n",
       "    </tr>\n",
       "  </thead>\n",
       "  <tbody>\n",
       "    <tr>\n",
       "      <th>0</th>\n",
       "      <td>How to Train Your Dragon</td>\n",
       "      <td>28.734</td>\n",
       "      <td>2010-03-26</td>\n",
       "      <td>How to Train Your Dragon</td>\n",
       "      <td>7.7</td>\n",
       "      <td>7610</td>\n",
       "      <td>217600000.0</td>\n",
       "      <td>277300000.0</td>\n",
       "      <td>3</td>\n",
       "    </tr>\n",
       "    <tr>\n",
       "      <th>1</th>\n",
       "      <td>Iron Man 2</td>\n",
       "      <td>28.515</td>\n",
       "      <td>2010-05-07</td>\n",
       "      <td>Iron Man 2</td>\n",
       "      <td>6.8</td>\n",
       "      <td>12368</td>\n",
       "      <td>312400000.0</td>\n",
       "      <td>311500000.0</td>\n",
       "      <td>5</td>\n",
       "    </tr>\n",
       "    <tr>\n",
       "      <th>2</th>\n",
       "      <td>Inception</td>\n",
       "      <td>27.920</td>\n",
       "      <td>2010-07-16</td>\n",
       "      <td>Inception</td>\n",
       "      <td>8.3</td>\n",
       "      <td>22186</td>\n",
       "      <td>292600000.0</td>\n",
       "      <td>535700000.0</td>\n",
       "      <td>7</td>\n",
       "    </tr>\n",
       "    <tr>\n",
       "      <th>3</th>\n",
       "      <td>Toy Story 3</td>\n",
       "      <td>24.445</td>\n",
       "      <td>2010-06-17</td>\n",
       "      <td>Toy Story 3</td>\n",
       "      <td>7.7</td>\n",
       "      <td>8340</td>\n",
       "      <td>415000000.0</td>\n",
       "      <td>652000000.0</td>\n",
       "      <td>6</td>\n",
       "    </tr>\n",
       "    <tr>\n",
       "      <th>4</th>\n",
       "      <td>Despicable Me</td>\n",
       "      <td>23.673</td>\n",
       "      <td>2010-07-09</td>\n",
       "      <td>Despicable Me</td>\n",
       "      <td>7.2</td>\n",
       "      <td>10057</td>\n",
       "      <td>251500000.0</td>\n",
       "      <td>291600000.0</td>\n",
       "      <td>7</td>\n",
       "    </tr>\n",
       "  </tbody>\n",
       "</table>\n",
       "</div>"
      ],
      "text/plain": [
       "             original_title  popularity release_date  \\\n",
       "0  How to Train Your Dragon      28.734   2010-03-26   \n",
       "1                Iron Man 2      28.515   2010-05-07   \n",
       "2                 Inception      27.920   2010-07-16   \n",
       "3               Toy Story 3      24.445   2010-06-17   \n",
       "4             Despicable Me      23.673   2010-07-09   \n",
       "\n",
       "                    title_x  vote_average  vote_count  domestic_gross  \\\n",
       "0  How to Train Your Dragon           7.7        7610     217600000.0   \n",
       "1                Iron Man 2           6.8       12368     312400000.0   \n",
       "2                 Inception           8.3       22186     292600000.0   \n",
       "3               Toy Story 3           7.7        8340     415000000.0   \n",
       "4             Despicable Me           7.2       10057     251500000.0   \n",
       "\n",
       "   foreign_gross  Release Month  \n",
       "0    277300000.0              3  \n",
       "1    311500000.0              5  \n",
       "2    535700000.0              7  \n",
       "3    652000000.0              6  \n",
       "4    291600000.0              7  "
      ]
     },
     "execution_count": 65,
     "metadata": {},
     "output_type": "execute_result"
    }
   ],
   "source": [
    "tmdb_gross.head() # Confirm our new column was added"
   ]
  },
  {
   "cell_type": "markdown",
   "metadata": {},
   "source": [
    "Now we need to aggregate the average domestic_gross by month. We can't sum all of the domestic_gross amounts because we do not know if the same amount of movies were released each month."
   ]
  },
  {
   "cell_type": "code",
   "execution_count": 66,
   "metadata": {
    "scrolled": false
   },
   "outputs": [
    {
     "data": {
      "text/html": [
       "<div>\n",
       "<style scoped>\n",
       "    .dataframe tbody tr th:only-of-type {\n",
       "        vertical-align: middle;\n",
       "    }\n",
       "\n",
       "    .dataframe tbody tr th {\n",
       "        vertical-align: top;\n",
       "    }\n",
       "\n",
       "    .dataframe thead th {\n",
       "        text-align: right;\n",
       "    }\n",
       "</style>\n",
       "<table border=\"1\" class=\"dataframe\">\n",
       "  <thead>\n",
       "    <tr style=\"text-align: right;\">\n",
       "      <th></th>\n",
       "      <th>popularity</th>\n",
       "      <th>vote_average</th>\n",
       "      <th>vote_count</th>\n",
       "      <th>domestic_gross</th>\n",
       "      <th>foreign_gross</th>\n",
       "    </tr>\n",
       "    <tr>\n",
       "      <th>Release Month</th>\n",
       "      <th></th>\n",
       "      <th></th>\n",
       "      <th></th>\n",
       "      <th></th>\n",
       "      <th></th>\n",
       "    </tr>\n",
       "  </thead>\n",
       "  <tbody>\n",
       "    <tr>\n",
       "      <th>1</th>\n",
       "      <td>9.130415</td>\n",
       "      <td>6.042222</td>\n",
       "      <td>788.674074</td>\n",
       "      <td>2.958451e+07</td>\n",
       "      <td>5.109024e+07</td>\n",
       "    </tr>\n",
       "    <tr>\n",
       "      <th>2</th>\n",
       "      <td>10.834101</td>\n",
       "      <td>6.113761</td>\n",
       "      <td>1487.761468</td>\n",
       "      <td>4.136267e+07</td>\n",
       "      <td>6.970659e+07</td>\n",
       "    </tr>\n",
       "    <tr>\n",
       "      <th>3</th>\n",
       "      <td>10.145943</td>\n",
       "      <td>6.340127</td>\n",
       "      <td>1456.152866</td>\n",
       "      <td>3.581962e+07</td>\n",
       "      <td>7.177550e+07</td>\n",
       "    </tr>\n",
       "    <tr>\n",
       "      <th>4</th>\n",
       "      <td>9.314301</td>\n",
       "      <td>6.387730</td>\n",
       "      <td>1015.926380</td>\n",
       "      <td>2.806182e+07</td>\n",
       "      <td>4.330451e+07</td>\n",
       "    </tr>\n",
       "    <tr>\n",
       "      <th>5</th>\n",
       "      <td>11.557396</td>\n",
       "      <td>6.386577</td>\n",
       "      <td>2123.550336</td>\n",
       "      <td>5.766597e+07</td>\n",
       "      <td>1.564771e+08</td>\n",
       "    </tr>\n",
       "    <tr>\n",
       "      <th>6</th>\n",
       "      <td>11.128884</td>\n",
       "      <td>6.369677</td>\n",
       "      <td>1883.380645</td>\n",
       "      <td>6.433837e+07</td>\n",
       "      <td>1.474472e+08</td>\n",
       "    </tr>\n",
       "    <tr>\n",
       "      <th>7</th>\n",
       "      <td>11.709232</td>\n",
       "      <td>6.404878</td>\n",
       "      <td>2063.878049</td>\n",
       "      <td>5.549196e+07</td>\n",
       "      <td>1.322139e+08</td>\n",
       "    </tr>\n",
       "    <tr>\n",
       "      <th>8</th>\n",
       "      <td>10.661789</td>\n",
       "      <td>6.325301</td>\n",
       "      <td>1220.331325</td>\n",
       "      <td>3.146082e+07</td>\n",
       "      <td>5.551759e+07</td>\n",
       "    </tr>\n",
       "    <tr>\n",
       "      <th>9</th>\n",
       "      <td>9.565089</td>\n",
       "      <td>6.340104</td>\n",
       "      <td>1069.994792</td>\n",
       "      <td>2.661364e+07</td>\n",
       "      <td>5.590010e+07</td>\n",
       "    </tr>\n",
       "    <tr>\n",
       "      <th>10</th>\n",
       "      <td>10.430980</td>\n",
       "      <td>6.360714</td>\n",
       "      <td>1208.653061</td>\n",
       "      <td>2.095450e+07</td>\n",
       "      <td>5.189279e+07</td>\n",
       "    </tr>\n",
       "    <tr>\n",
       "      <th>11</th>\n",
       "      <td>12.577219</td>\n",
       "      <td>6.579775</td>\n",
       "      <td>2028.578652</td>\n",
       "      <td>5.160823e+07</td>\n",
       "      <td>1.065920e+08</td>\n",
       "    </tr>\n",
       "    <tr>\n",
       "      <th>12</th>\n",
       "      <td>13.001335</td>\n",
       "      <td>6.548235</td>\n",
       "      <td>2162.900000</td>\n",
       "      <td>6.405913e+07</td>\n",
       "      <td>1.027434e+08</td>\n",
       "    </tr>\n",
       "  </tbody>\n",
       "</table>\n",
       "</div>"
      ],
      "text/plain": [
       "               popularity  vote_average   vote_count  domestic_gross  \\\n",
       "Release Month                                                          \n",
       "1                9.130415      6.042222   788.674074    2.958451e+07   \n",
       "2               10.834101      6.113761  1487.761468    4.136267e+07   \n",
       "3               10.145943      6.340127  1456.152866    3.581962e+07   \n",
       "4                9.314301      6.387730  1015.926380    2.806182e+07   \n",
       "5               11.557396      6.386577  2123.550336    5.766597e+07   \n",
       "6               11.128884      6.369677  1883.380645    6.433837e+07   \n",
       "7               11.709232      6.404878  2063.878049    5.549196e+07   \n",
       "8               10.661789      6.325301  1220.331325    3.146082e+07   \n",
       "9                9.565089      6.340104  1069.994792    2.661364e+07   \n",
       "10              10.430980      6.360714  1208.653061    2.095450e+07   \n",
       "11              12.577219      6.579775  2028.578652    5.160823e+07   \n",
       "12              13.001335      6.548235  2162.900000    6.405913e+07   \n",
       "\n",
       "               foreign_gross  \n",
       "Release Month                 \n",
       "1               5.109024e+07  \n",
       "2               6.970659e+07  \n",
       "3               7.177550e+07  \n",
       "4               4.330451e+07  \n",
       "5               1.564771e+08  \n",
       "6               1.474472e+08  \n",
       "7               1.322139e+08  \n",
       "8               5.551759e+07  \n",
       "9               5.590010e+07  \n",
       "10              5.189279e+07  \n",
       "11              1.065920e+08  \n",
       "12              1.027434e+08  "
      ]
     },
     "execution_count": 66,
     "metadata": {},
     "output_type": "execute_result"
    }
   ],
   "source": [
    "tmdb_gross.groupby('Release Month').mean()"
   ]
  },
  {
   "cell_type": "code",
   "execution_count": 67,
   "metadata": {
    "scrolled": false
   },
   "outputs": [],
   "source": [
    "grouped_tmdb_gross = tmdb_gross.groupby('Release Month').mean() # Create a new dataframe with these results"
   ]
  },
  {
   "cell_type": "code",
   "execution_count": 68,
   "metadata": {
    "scrolled": false
   },
   "outputs": [],
   "source": [
    "monthly_avg = grouped_tmdb_gross['domestic_gross']"
   ]
  },
  {
   "cell_type": "code",
   "execution_count": 69,
   "metadata": {
    "scrolled": false
   },
   "outputs": [
    {
     "data": {
      "text/plain": [
       "Release Month\n",
       "1     2.958451e+07\n",
       "2     4.136267e+07\n",
       "3     3.581962e+07\n",
       "4     2.806182e+07\n",
       "5     5.766597e+07\n",
       "6     6.433837e+07\n",
       "7     5.549196e+07\n",
       "8     3.146082e+07\n",
       "9     2.661364e+07\n",
       "10    2.095450e+07\n",
       "11    5.160823e+07\n",
       "12    6.405913e+07\n",
       "Name: domestic_gross, dtype: float64"
      ]
     },
     "execution_count": 69,
     "metadata": {},
     "output_type": "execute_result"
    }
   ],
   "source": [
    "monthly_avg"
   ]
  },
  {
   "cell_type": "markdown",
   "metadata": {},
   "source": [
    "Plot our results on a bar graph."
   ]
  },
  {
   "cell_type": "code",
   "execution_count": 70,
   "metadata": {
    "scrolled": false
   },
   "outputs": [
    {
     "data": {
      "image/png": "[encoded data removed]",
      "text/plain": [
       "<Figure size 1008x576 with 1 Axes>"
      ]
     },
     "metadata": {},
     "output_type": "display_data"
    }
   ],
   "source": [
    "fig, ax = plt.subplots(figsize=(14,8))\n",
    "\n",
    "pal = sns.color_palette(\"mako\", len(monthly_avg))\n",
    "rank = monthly_avg.argsort().argsort()   # http://stackoverflow.com/a/6266510/1628638\n",
    "\n",
    "# https://stackoverflow.com/questions/36271302/changing-color-scale-in-seaborn-bar-plot\n",
    "sns.barplot(x= monthly_avg.index, y = monthly_avg, palette=np.array(pal[::-1])[rank]) \n",
    "\n",
    "ax.set_title('Average Domestic Gross By Release Month', fontsize=20)\n",
    "ax.set_xlabel('Month of the Year', fontsize=16)\n",
    "ax.set_ylabel('Average Domestic Gross', fontsize=16)\n",
    "xticks = np.linspace(start=0, stop=11, num=12)\n",
    "ax.set_xticks(xticks)\n",
    "ax.set_xticklabels(['JAN', 'FEB', 'MAR', 'ARP', 'MAY', 'JUN', 'JUL', 'AUG', 'SEP', 'OCT', 'NOV', 'DEC'], rotation=65)\n",
    "yticks = np.linspace(start=0, stop=70000000, num=8)\n",
    "ax.set_yticks(yticks)\n",
    "ax.set_yticklabels(['$0', '$10M', '$20M', '$30M', '$40M', '$50M', '$60M', '$70M'])\n",
    "\n",
    "plt.savefig('Images/Avg_Dom_Gross_By_Month.png');"
   ]
  },
  {
   "cell_type": "markdown",
   "metadata": {},
   "source": [
    "## Recommendation #3\n",
    "* **Microsoft Studios should aim to release movies in May, June, July or December.**"
   ]
  },
  {
   "cell_type": "code",
   "execution_count": 71,
   "metadata": {},
   "outputs": [],
   "source": [
    "conn.close;"
   ]
  },
  {
   "cell_type": "markdown",
   "metadata": {},
   "source": [
    "## Conclusions\n",
    "This analysis leads to three recommendations for Microsoft Studios as they enter into the world of producing their own movies:\n",
    "* Microsoft Studios should produce movies that are in the Comedy, Drama, Action, or Adventure genres.\n",
    "* Microsoft Studios should aim to produce movies that are 130 to 170 minutes long.\n",
    "* Microsoft Studios should release movies in May, June, July or December.\n"
   ]
  },
  {
   "cell_type": "markdown",
   "metadata": {},
   "source": [
    "## Next Steps\n",
    "Further analysis could yield additional insights to help guide Microsoft as it starts its new movie studio:\n",
    "* Look at production budgets for each film and see what type of genre has the best return on investment based on the movie gross.\n",
    "* Look at the marketing budgets for each film and see what type of advertising each film did. Options could include out of home, linear TV advertising, digital advertising, custom content, etc.\n",
    "* The movie distribution landscape is rapidly changing as films are no longer going to theaters and then to home entertainment 90 days later. Although there would be limited data available, we could attempt to see what type of distribution model grosses the most amount of dollars (box office performance + home entertainment sales).\n",
    "* We could also look to analyze the number of movies that were released on the same weekend and see how that affects box office performance as well as long term movie performance."
   ]
  }
 ],
 "metadata": {
  "kernelspec": {
   "display_name": "Python 3",
   "language": "python",
   "name": "python3"
  },
  "language_info": {
   "codemirror_mode": {
    "name": "ipython",
    "version": 3
   },
   "file_extension": ".py",
   "mimetype": "text/x-python",
   "name": "python",
   "nbconvert_exporter": "python",
   "pygments_lexer": "ipython3",
   "version": "3.8.5"
  }
 },
 "nbformat": 4,
 "nbformat_minor": 2
}
